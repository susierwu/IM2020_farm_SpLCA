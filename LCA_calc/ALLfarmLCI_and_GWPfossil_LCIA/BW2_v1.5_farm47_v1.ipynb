{
 "cells": [
  {
   "cell_type": "code",
   "execution_count": 1,
   "metadata": {},
   "outputs": [],
   "source": [
    "import brightway2 as bw\n",
    "import os               # to use \"operating system dependent functionality\"\n",
    "import numpy as np      # \"the fundamental package for scientific computing with Python\"\n",
    "import pandas as pd     # \"high-performance, easy-to-use data structures and data analysis tools\" for Python\n",
    "import time"
   ]
  },
  {
   "cell_type": "code",
   "execution_count": 2,
   "metadata": {
    "scrolled": true
   },
   "outputs": [],
   "source": [
    "bw.projects.set_current(\"SpLCA_farm2020\")"
   ]
  },
  {
   "cell_type": "code",
   "execution_count": 3,
   "metadata": {},
   "outputs": [
    {
     "data": {
      "text/plain": [
       "'C:\\\\Users\\\\ruqun\\\\AppData\\\\Local\\\\pylca\\\\Brightway3\\\\SpLCA_farm2020.d061dc2b3582fbb32e882225148b0f6a'"
      ]
     },
     "execution_count": 3,
     "metadata": {},
     "output_type": "execute_result"
    }
   ],
   "source": [
    "bw.projects.dir\n",
    "#bw.projects.logs_dir\n",
    "#bw.projects.current"
   ]
  },
  {
   "cell_type": "code",
   "execution_count": 4,
   "metadata": {
    "scrolled": true
   },
   "outputs": [
    {
     "data": {
      "text/plain": [
       "Brightway2 SQLiteBackend: biosphere3"
      ]
     },
     "execution_count": 4,
     "metadata": {},
     "output_type": "execute_result"
    }
   ],
   "source": [
    "bw.Database('biosphere3')"
   ]
  },
  {
   "cell_type": "code",
   "execution_count": 5,
   "metadata": {},
   "outputs": [
    {
     "data": {
      "text/plain": [
       "Brightway2 SQLiteBackend: ecoinvent 3.6 cutoff"
      ]
     },
     "execution_count": 5,
     "metadata": {},
     "output_type": "execute_result"
    }
   ],
   "source": [
    "bw.Database('ecoinvent 3.6 cutoff')"
   ]
  },
  {
   "cell_type": "code",
   "execution_count": 6,
   "metadata": {},
   "outputs": [],
   "source": [
    "my_bio = bw.Database('biosphere3')\n",
    "#len(my_bio)  #4321"
   ]
  },
  {
   "cell_type": "code",
   "execution_count": 7,
   "metadata": {},
   "outputs": [],
   "source": [
    "eidb = bw.Database('ecoinvent 3.6 cutoff')\n",
    "#len(eidb)   #original 18121 to 18144"
   ]
  },
  {
   "cell_type": "code",
   "execution_count": 8,
   "metadata": {
    "scrolled": false
   },
   "outputs": [
    {
     "data": {
      "text/plain": [
       "Databases dictionary with 2 object(s):\n",
       "\tbiosphere3\n",
       "\tecoinvent 3.6 cutoff"
      ]
     },
     "execution_count": 8,
     "metadata": {},
     "output_type": "execute_result"
    }
   ],
   "source": [
    "bw.databases        #3.3 was duplicate of 3.6"
   ]
  },
  {
   "cell_type": "code",
   "execution_count": null,
   "metadata": {},
   "outputs": [],
   "source": []
  },
  {
   "cell_type": "markdown",
   "metadata": {},
   "source": [
    "# create empty activity (to be used in foreground) and search ecoinvent  "
   ]
  },
  {
   "cell_type": "code",
   "execution_count": 9,
   "metadata": {},
   "outputs": [],
   "source": [
    "#define farm # here in x: \n",
    "x = 47\n",
    "farmno = str(x)"
   ]
  },
  {
   "cell_type": "markdown",
   "metadata": {},
   "source": [
    "#delete all activities that were accidentally created"
   ]
  },
  {
   "cell_type": "code",
   "execution_count": 44,
   "metadata": {},
   "outputs": [],
   "source": [
    "for activity in [act for act in eidb if act['name']== \"farm\" + farmno +\"_upstream_allinput\" ]:\n",
    "    activity.delete()"
   ]
  },
  {
   "cell_type": "code",
   "execution_count": 45,
   "metadata": {
    "scrolled": true
   },
   "outputs": [],
   "source": [
    "for activity in [act for act in eidb if act['name']== \"farm\" + farmno +\"_onfarmprocess\" ]:\n",
    "    activity.delete()"
   ]
  },
  {
   "cell_type": "code",
   "execution_count": 46,
   "metadata": {},
   "outputs": [],
   "source": [
    "for activity in [act for act in eidb if act['name']== \"farm\" + farmno + '_onsite_dieselburn']:\n",
    "    activity.delete()"
   ]
  },
  {
   "cell_type": "code",
   "execution_count": 47,
   "metadata": {},
   "outputs": [],
   "source": [
    "for activity in [act for act in eidb if act['name']== \"farm\" + farmno + '_onsite_coalburn']:\n",
    "    activity.delete()"
   ]
  },
  {
   "cell_type": "code",
   "execution_count": 48,
   "metadata": {},
   "outputs": [],
   "source": [
    "for activity in [act for act in eidb if act['name']== \"farm\" + farmno + '_onsite_animalemi']:\n",
    "    activity.delete()"
   ]
  },
  {
   "cell_type": "code",
   "execution_count": 49,
   "metadata": {},
   "outputs": [],
   "source": [
    "globals()['upstream_farm%s' % x] = eidb.new_activity(code = \"farmtest\"+farmno+\"_upstream\", name = \"farm\" + farmno +\"_upstream_allinput\", unit = \"unit\")\n",
    "globals()['upstream_farm%s' % x].save()"
   ]
  },
  {
   "cell_type": "code",
   "execution_count": 50,
   "metadata": {
    "scrolled": true
   },
   "outputs": [],
   "source": [
    "globals()['onsite_farm%s' % x] = eidb.new_activity(code = \"farmtest\"+farmno+\"_processing\", name = \"farm\" + farmno +\"_onfarmprocess\", unit = \"unit\")\n",
    "globals()['onsite_farm%s' % x].save()"
   ]
  },
  {
   "cell_type": "code",
   "execution_count": 51,
   "metadata": {},
   "outputs": [],
   "source": [
    "globals()['onsite_diesel_farm%s' % x] = eidb.new_activity(code = \"farmtest\"+farmno+\"_processing_diesel\", name = \"farm\" + farmno +\"_onsite_dieselburn\", unit = \"unit\")\n",
    "globals()['onsite_diesel_farm%s' % x].save()"
   ]
  },
  {
   "cell_type": "code",
   "execution_count": 52,
   "metadata": {},
   "outputs": [],
   "source": [
    "globals()['onsite_coal_farm%s' % x] = eidb.new_activity(code = \"farmtest\"+farmno+\"_processing_coal\", name = \"farm\" + farmno +\"_onsite_coalburn\", unit = \"unit\")\n",
    "globals()['onsite_coal_farm%s' % x].save()"
   ]
  },
  {
   "cell_type": "code",
   "execution_count": 53,
   "metadata": {},
   "outputs": [],
   "source": [
    "globals()['onsite_animalemi_farm%s' % x] = eidb.new_activity(code = \"farmtest\"+farmno+\"_processing_animal\", name = \"farm\" + farmno +\"_onsite_animalemi\", unit = \"unit\")\n",
    "globals()['onsite_animalemi_farm%s' % x].save()"
   ]
  },
  {
   "cell_type": "code",
   "execution_count": 20,
   "metadata": {},
   "outputs": [],
   "source": [
    "# 1 MJ (0.0222 kg) diesel burned for running a tractor with a trailer.\n",
    "diesel_burn = [act for act in eidb if act['name']=='diesel, burned in agricultural machinery'][0]"
   ]
  },
  {
   "cell_type": "code",
   "execution_count": 21,
   "metadata": {},
   "outputs": [],
   "source": [
    "farm_diesel_burnEmi = diesel_burn.copy()"
   ]
  },
  {
   "cell_type": "code",
   "execution_count": 22,
   "metadata": {},
   "outputs": [],
   "source": [
    "farm_diesel_burnEmi.technosphere().delete()   #delete tech input from original ecoinvent and leave only burning emissions\n",
    "#for exc in farm_diesel_burnEmi.exchanges(): print(exc)"
   ]
  },
  {
   "cell_type": "code",
   "execution_count": 23,
   "metadata": {},
   "outputs": [],
   "source": [
    "#farm_coal_burnEmi = eidb.new_activity(code = 'farmtest_coalburn', name = \"farm_onsite_coalburn\", unit = \"megajoule\")\n",
    "#farm_diesel_burnEmi.save()"
   ]
  },
  {
   "cell_type": "code",
   "execution_count": 24,
   "metadata": {
    "scrolled": true
   },
   "outputs": [],
   "source": [
    "coal_burn = [act for act in eidb if act['name']=='heat production, lignite briquette, at stove 5-15kW' and 'RoW' in act['location']][0]"
   ]
  },
  {
   "cell_type": "code",
   "execution_count": 25,
   "metadata": {},
   "outputs": [],
   "source": [
    "farm_coal_burnEmi = coal_burn.copy() #heating value (19.5 MJ/kg), unit: megajoule"
   ]
  },
  {
   "cell_type": "code",
   "execution_count": 26,
   "metadata": {},
   "outputs": [],
   "source": [
    "farm_coal_burnEmi.technosphere().delete()\n",
    "#for exc in farm_coal_burnEmi.technosphere(): print(exc)"
   ]
  },
  {
   "cell_type": "markdown",
   "metadata": {},
   "source": [
    "### upstream production (not use copy())"
   ]
  },
  {
   "cell_type": "code",
   "execution_count": 27,
   "metadata": {},
   "outputs": [],
   "source": [
    "#upstream production\n",
    "#kilowatt hour\n",
    "farmx_elec = [act for act in eidb if act['name']=='electricity production, hard coal' and 'CN-NM' in act['location']][0]\n",
    "#megajoule\n",
    "farmx_diesel = [act for act in eidb if act['name']=='market for diesel, burned in agricultural machinery' and 'GLO' in act['location']][0]\n",
    "#megajoule\n",
    "farmx_coal = [act for act in eidb if act['name']=='market for lignite briquettes' and 'RoW' in act['location']][0]\n",
    "\n",
    "#feed options, pelletfeed and concentrated feed using \"market for protein feed\" \n",
    "#（玉米粉/玉米糠/玉米面 maizechop）（玉米皮/玉米饼/玉米粒/玉米料/喷浆玉米 maizegrain）   (青贮玉米 maize silage)\n",
    "farmx_pelletfeed = [act for act in eidb if 'market for protein feed, 100% crude' in act['name']][0]\n",
    "farmx_soybeanmeal = [act for act in eidb if act['name']=='soybean meal to generic market for protein feed' and act['unit'] == 'kilogram'][0]\n",
    "farmx_cottonseedmeal = [act for act in eidb if act['name']=='cottonseed meal to generic market for protein feed' and act['unit'] == 'kilogram'][0]\n",
    "farmx_vinasse = [act for act in eidb if 'Dried Grains with Solubles to generic market for protein feed' in act['name'] and act['unit'] == 'kilogram'][0]\n",
    "farmx_rapemeal = [act for act in eidb if act['name']=='rape meal to generic market for protein feed' and act['unit'] == 'kilogram'][0]\n",
    "farmx_wheatbran = [act for act in eidb if act['name']=='wheat bran to generic market for energy feed' and act['unit'] == 'kilogram' and 'RoW' in act['location']][0]\n",
    "farmx_maizechop = [act for act in eidb if act['name']=='maize chop to generic market for energy feed' and act['unit'] == 'kilogram' and 'RoW' in act['location']][0]\n",
    "farmx_hay = [act for act in eidb if act['name'] == 'market for hay'][0]\n",
    "farmx_straw = [act for act in eidb if 'market for straw, stand-alone production' in act['name'] and 'RoW' in act['location']][0]\n",
    "farmx_maizesilage = [act for act in eidb if 'market for maize silage' in act['name'] and 'RoW' in act['location']][0]\n",
    "farmx_grasssilage = [act for act in eidb if 'grass silage production' in act['name'] and 'RoW' in act['location']][0]\n",
    "farmx_maizegrain = [act for act in eidb if act['name']=='market for maize grain' and 'RoW' in act['location']][0]\n",
    "farmx_milk = [act for act in eidb if act['name']=='skimmed milk, from cow milk to generic market for protein feed' and act['unit'] == 'kilogram'][0]\n",
    "#farmx_wheatgrain = [act for act in eidb if act['name']=='wheat grain, feed production' and 'RoW' in act['location']][0]\n",
    "#farmx_barleygrain = [act for act in eidb if act['name']=='barley grain, feed production' and 'RoW' in act['location']][0]\n",
    "#farmx_meatbonemeal = [act for act in eidb if act['name']=='meat and bone meal to generic market for protein feed' and act['unit'] == 'kilogram' and 'RoW' in act['location']][0] \n"
   ]
  },
  {
   "cell_type": "code",
   "execution_count": null,
   "metadata": {},
   "outputs": [],
   "source": []
  },
  {
   "cell_type": "markdown",
   "metadata": {},
   "source": [
    "### natural resources input"
   ]
  },
  {
   "cell_type": "code",
   "execution_count": 28,
   "metadata": {},
   "outputs": [],
   "source": [
    "#bbb = [act for act in eidb if act['name']== 'beef cattle production on pasture' and 'RoW' in act['location']][0]\n",
    "#for exc in bbb.biosphere(): print(exc)\n",
    "#Exchange: 0.00474868029053916 cubic meter 'Water, unspecified natural origin' (cubic meter, None, ('natural resource', 'in ground')) to 'beef cattle production on pasture' (kilogram, RoW, None)>\n",
    "#Exchange: 106.602633613578 square meter-year 'Occupation, pasture, man made' (square meter-year, None, ('natural resource', 'land')) to 'beef cattle production on pasture' (kilogram, RoW, None)>\n",
    "#Exchange: 37.6747149756226 square meter-year 'Occupation, grassland, natural, for livestock grazing' (square meter-year, None, ('natural resource', 'land')) to 'beef cattle production on pasture' (kilogram, RoW, None)>"
   ]
  },
  {
   "cell_type": "code",
   "execution_count": 29,
   "metadata": {},
   "outputs": [],
   "source": [
    "#water, cubic meter\n",
    "farmx_input_water_unspecified = [act for act in my_bio if act['name']=='Water, unspecified natural origin' and act['type'] =='natural resource'\n",
    "  and 'natural resource' in str(act['categories']) and 'in water' in str(act['categories'])][0]\n",
    "#farmx_input_water_river = [act for act in my_bio if act['name']=='Water, river' and act['type'] =='natural resource'\n",
    "#  and 'natural resource' in str(act['categories']) and 'in water' in str(act['categories'])][0]\n",
    "#farmx_input_water_lake = [act for act in my_bio if act['name']=='Water, lake' and act['type'] =='natural resource'\n",
    "#  and 'natural resource' in str(act['categories']) and 'in water' in str(act['categories'])][0]"
   ]
  },
  {
   "cell_type": "code",
   "execution_count": 30,
   "metadata": {},
   "outputs": [],
   "source": [
    "#pasture, square meter-year\n",
    "farmx_input_pasture = [act for act in my_bio if act['name'] == 'Occupation, grassland, natural, for livestock grazing'][0]"
   ]
  },
  {
   "cell_type": "markdown",
   "metadata": {},
   "source": [
    "### direct onsite emissions from DairyGEM model"
   ]
  },
  {
   "cell_type": "code",
   "execution_count": 31,
   "metadata": {},
   "outputs": [],
   "source": [
    "#direct onsite emissions\n",
    "#my_bio.search('ammonia')\n",
    "#bw.Database('biosphere3').search('carbon dioxide', filter={'categories':'urban', 'name':'fossil'})\n",
    "#bw.Database('biosphere3').search('ammonia', filter={'categories':'non-urban'})\n",
    "farmx_emi_ammonia = [act for act in my_bio if act['name']=='Ammonia' and 'air' and 'non-urban air or from high stacks' in str(act['categories'])][0]\n",
    "farmx_emi_hydrosulfide = [act for act in my_bio if act['name']=='Hydrogen sulfide' and 'air' in str(act['categories']) and 'non-urban air or from high stacks' in str(act['categories'])][0]\n",
    "farmx_emi_methane = [act for act in my_bio if act['name']=='Methane'][0]\n",
    "farmx_emi_VOC = [act for act in my_bio if 'NMVOC, non-methane volatile organic compounds, unspecified origin' in act['name'] and 'non-urban air or from high stacks' in str(act['categories'])][0]\n",
    "farmx_emi_nitroxides = [act for act in my_bio if 'Nitrogen oxides' in act['name'] and 'non-urban air or from high stacks' in str(act['categories'])][0]\n",
    "#farmx_emi_bioCO2 = [act for act in my_bio if 'Carbon dioxide, non-fossil' in act['name'] and 'non-urban air or from high stacks' in str(act['categories'])][0]\n",
    "#farmx_emi_soil = [act for act in my_bio if act['name']=='Nitrate' and 'soil' in str(act['categories'])][0]\n",
    "#farmx_emi_nitrate_water = [act for act in my_bio if act['name']=='Nitrate' and 'water' in str(act['categories'])][0]"
   ]
  },
  {
   "cell_type": "code",
   "execution_count": null,
   "metadata": {},
   "outputs": [],
   "source": []
  },
  {
   "cell_type": "markdown",
   "metadata": {},
   "source": [
    "# Creating foreground system for farmx"
   ]
  },
  {
   "cell_type": "code",
   "execution_count": 54,
   "metadata": {},
   "outputs": [],
   "source": [
    "#define FU for each farm here, do not touch following codes\n",
    "farmx_income = 4.2*10000      #RMB yuan\n",
    "farmx_liveweight = 8.2*1000     #kg"
   ]
  },
  {
   "cell_type": "code",
   "execution_count": 55,
   "metadata": {},
   "outputs": [],
   "source": [
    "#feed input, change amount (kg) for each farm here\n",
    "pelletfeed_amt = 5000\n",
    "soybeanmeal_amt =  0\n",
    "cottonseedmeal_amt = 0\n",
    "vinasse_amt = 0\n",
    "rapemeal_amt = 3000\n",
    "wheatbran_amt = 0\n",
    "maizechop_amt =  0\n",
    "meatbonemeal_amt = 0\n",
    "hay_amt = 22.5*1000\n",
    "straw_amt = 0\n",
    "maizesilage_amt = 0\n",
    "grasssilage_amt = 0 \n",
    "wheatgrain_amt = 0 \n",
    "barleygrain_amt = 0\n",
    "maizegrain_amt = 0\n",
    "milk_amt = 0\n",
    "\n",
    "#resource input\n",
    "water_amt = 69107                          #m3\n",
    "land_amt = 30 * 10000                     #ha to m2\n",
    "\n",
    "#energy input \n",
    "elec_amt = 2000            \n",
    "coal_amt_kg = 10000         #convert to MJ\n",
    "coal_amt_MJ = coal_amt_kg * 19.5   #19.5 MJ/kg for coal\n",
    "diesel_amt_liter = 1000     #convert to MJ\n",
    "diesel_amt_MJ = diesel_amt_liter * 0.832 * 45.045  #45.045 MJ/kg  | 0.832kg/L for diesel\n",
    "\n",
    "#farm emission output (annual kg)\n",
    "ammonia_amt = 139\n",
    "hydrosulfide_amt = 1\n",
    "methane_amt = 1357\n",
    "nitroxides_amt = 1\n",
    "VOC_amt = 13"
   ]
  },
  {
   "cell_type": "code",
   "execution_count": 56,
   "metadata": {},
   "outputs": [],
   "source": [
    "#technosphere input all written to farmx_upstream\n",
    "globals()['upstream_farm%s' % x].new_exchange(input=farmx_elec.key,amount=elec_amt,unit=\"kilowatt hour\",type='technosphere').save()\n",
    "globals()['upstream_farm%s' % x].new_exchange(input=farmx_diesel.key,amount=diesel_amt_MJ,unit=\"megajoule\",type='technosphere').save()\n",
    "globals()['upstream_farm%s' % x].new_exchange(input=farmx_coal.key,amount=coal_amt_MJ,unit=\"megajoule\",type='technosphere').save()\n",
    "globals()['upstream_farm%s' % x].new_exchange(input=farmx_pelletfeed.key,amount=pelletfeed_amt,unit=\"kilogram\",type='technosphere').save()\n",
    "globals()['upstream_farm%s' % x].new_exchange(input=farmx_soybeanmeal.key,amount=soybeanmeal_amt,unit=\"kilogram\",type='technosphere').save()\n",
    "globals()['upstream_farm%s' % x].new_exchange(input=farmx_cottonseedmeal.key,amount=cottonseedmeal_amt,unit=\"kilogram\",type='technosphere').save()\n",
    "globals()['upstream_farm%s' % x].new_exchange(input=farmx_vinasse.key,amount=vinasse_amt,unit=\"kilogram\",type='technosphere').save()\n",
    "globals()['upstream_farm%s' % x].new_exchange(input=farmx_rapemeal.key,amount=rapemeal_amt,unit=\"kilogram\",type='technosphere').save()\n",
    "globals()['upstream_farm%s' % x].new_exchange(input=farmx_wheatbran.key,amount=wheatbran_amt,unit=\"kilogram\",type='technosphere').save()\n",
    "globals()['upstream_farm%s' % x].new_exchange(input=farmx_maizechop.key,amount=maizechop_amt,unit=\"kilogram\",type='technosphere').save()\n",
    "globals()['upstream_farm%s' % x].new_exchange(input=farmx_hay.key,amount=hay_amt,unit=\"kilogram\",type='technosphere').save()\n",
    "globals()['upstream_farm%s' % x].new_exchange(input=farmx_straw.key,amount=straw_amt,unit=\"kilogram\",type='technosphere').save()\n",
    "globals()['upstream_farm%s' % x].new_exchange(input=farmx_maizesilage.key,amount=maizesilage_amt,unit=\"kilogram\",type='technosphere').save()\n",
    "globals()['upstream_farm%s' % x].new_exchange(input=farmx_grasssilage.key,amount=grasssilage_amt,unit=\"kilogram\",type='technosphere').save()\n",
    "globals()['upstream_farm%s' % x].new_exchange(input=farmx_maizegrain.key,amount=maizegrain_amt,unit=\"kilogram\",type='technosphere').save()\n",
    "globals()['upstream_farm%s' % x].new_exchange(input=farmx_milk.key,amount=milk_amt,unit=\"kilogram\",type='technosphere').save()\n",
    "#globals()['upstream_farm%s' % x].save()"
   ]
  },
  {
   "cell_type": "markdown",
   "metadata": {},
   "source": [
    "on-site processes"
   ]
  },
  {
   "cell_type": "code",
   "execution_count": 57,
   "metadata": {},
   "outputs": [],
   "source": [
    "#direct emissions from diesel and coal burning, each for (1MJ) emission\n",
    "globals()['onsite_diesel_farm%s' % x].new_exchange(input=farm_diesel_burnEmi.key,amount=diesel_amt_MJ,unit=\"megajoule\",type='technosphere').save()\n",
    "#farm1_processing.save()"
   ]
  },
  {
   "cell_type": "code",
   "execution_count": 58,
   "metadata": {},
   "outputs": [],
   "source": [
    "globals()['onsite_coal_farm%s' % x].new_exchange(input=farm_coal_burnEmi.key,amount=coal_amt_MJ,unit=\"megajoule\",type='technosphere').save()"
   ]
  },
  {
   "cell_type": "code",
   "execution_count": 59,
   "metadata": {},
   "outputs": [],
   "source": [
    "#direct animal emissions \n",
    "globals()['onsite_animalemi_farm%s' % x].new_exchange(input=farmx_emi_ammonia.key,amount=ammonia_amt,unit=\"kilogram\",type='biosphere').save()\n",
    "globals()['onsite_animalemi_farm%s' % x].new_exchange(input=farmx_emi_hydrosulfide.key,amount=hydrosulfide_amt,unit=\"kilogram\",type='biosphere').save()\n",
    "globals()['onsite_animalemi_farm%s' % x].new_exchange(input=farmx_emi_methane.key,amount=methane_amt,unit=\"kilogram\",type='biosphere').save()\n",
    "globals()['onsite_animalemi_farm%s' % x].new_exchange(input=farmx_emi_VOC.key,amount=VOC_amt,unit=\"kilogram\",type='biosphere').save()\n",
    "globals()['onsite_animalemi_farm%s' % x].new_exchange(input=farmx_emi_nitroxides.key,amount=nitroxides_amt,unit=\"kilogram\",type='biosphere').save()"
   ]
  },
  {
   "cell_type": "code",
   "execution_count": 60,
   "metadata": {},
   "outputs": [],
   "source": [
    "#onsite resource input\n",
    "globals()['onsite_farm%s' % x].new_exchange(input=farmx_input_pasture.key,amount=land_amt,unit=\"square meter-year\",type='biosphere').save()\n",
    "globals()['onsite_farm%s' % x].new_exchange(input=farmx_input_water_unspecified.key,amount=water_amt,unit=\"cubic meter\",type='biosphere').save()"
   ]
  },
  {
   "cell_type": "code",
   "execution_count": 66,
   "metadata": {
    "scrolled": true
   },
   "outputs": [],
   "source": [
    "#for exc in globals()['upstream_farm%s' % x].exchanges():          print(exc)"
   ]
  },
  {
   "cell_type": "code",
   "execution_count": 62,
   "metadata": {},
   "outputs": [
    {
     "name": "stdout",
     "output_type": "stream",
     "text": [
      "Exchange: 37477.44 megajoule 'diesel, burned in agricultural machinery' (megajoule, GLO, None) to 'farm47_onsite_dieselburn' (unit, GLO, None)>\n"
     ]
    }
   ],
   "source": [
    "for exc in globals()['onsite_diesel_farm%s' % x].exchanges():  \n",
    "        print(exc)"
   ]
  },
  {
   "cell_type": "code",
   "execution_count": 63,
   "metadata": {},
   "outputs": [
    {
     "name": "stdout",
     "output_type": "stream",
     "text": [
      "Exchange: 195000.0 megajoule 'heat production, lignite briquette, at stove 5-15kW' (megajoule, RoW, None) to 'farm47_onsite_coalburn' (unit, GLO, None)>\n"
     ]
    }
   ],
   "source": [
    "for exc in globals()['onsite_coal_farm%s' % x].exchanges():  \n",
    "        print(exc)"
   ]
  },
  {
   "cell_type": "code",
   "execution_count": 64,
   "metadata": {
    "scrolled": true
   },
   "outputs": [
    {
     "name": "stdout",
     "output_type": "stream",
     "text": [
      "Exchange: 139 kilogram 'Ammonia' (kilogram, None, ('air', 'non-urban air or from high stacks')) to 'farm47_onsite_animalemi' (unit, GLO, None)>\n",
      "Exchange: 1 kilogram 'Hydrogen sulfide' (kilogram, None, ('air', 'non-urban air or from high stacks')) to 'farm47_onsite_animalemi' (unit, GLO, None)>\n",
      "Exchange: 1357 kilogram 'Methane' (kilogram, None, ('air', 'urban air close to ground')) to 'farm47_onsite_animalemi' (unit, GLO, None)>\n",
      "Exchange: 13 kilogram 'NMVOC, non-methane volatile organic compounds, unspecified origin' (kilogram, None, ('air', 'non-urban air or from high stacks')) to 'farm47_onsite_animalemi' (unit, GLO, None)>\n",
      "Exchange: 1 kilogram 'Nitrogen oxides' (kilogram, None, ('air', 'non-urban air or from high stacks')) to 'farm47_onsite_animalemi' (unit, GLO, None)>\n"
     ]
    }
   ],
   "source": [
    "for exc in globals()['onsite_animalemi_farm%s' % x].exchanges():  \n",
    "        print(exc)"
   ]
  },
  {
   "cell_type": "code",
   "execution_count": 67,
   "metadata": {
    "scrolled": false
   },
   "outputs": [
    {
     "name": "stdout",
     "output_type": "stream",
     "text": [
      "Exchange: 300000 square meter-year 'Occupation, grassland, natural, for livestock grazing' (square meter-year, None, ('natural resource', 'land')) to 'farm47_onfarmprocess' (unit, GLO, None)>\n",
      "Exchange: 69107 cubic meter 'Water, unspecified natural origin' (cubic meter, None, ('natural resource', 'in water')) to 'farm47_onfarmprocess' (unit, GLO, None)>\n"
     ]
    }
   ],
   "source": [
    "for exc in globals()['onsite_farm%s' % x].exchanges():  \n",
    "        print(exc)"
   ]
  },
  {
   "cell_type": "markdown",
   "metadata": {},
   "source": [
    "# LCA farmx_upstream, onsite_coal, diesel,animalemi, resource"
   ]
  },
  {
   "cell_type": "code",
   "execution_count": 68,
   "metadata": {},
   "outputs": [],
   "source": [
    "#FU income\n",
    "GWP = [m for m in bw.methods if 'IPCC 2013' in str(m) and  'climate change' in str(m) and 'GWP 100a' in str(m)][0]\n",
    "FUincome_upstream = {globals()['upstream_farm%s' % x]: (1/farmx_income)}\n",
    "FUincome_onsite = {globals()['onsite_farm%s' % x]: (1/farmx_income)}\n",
    "FUincome_onsite_diesel = {globals()['onsite_diesel_farm%s' % x]: (1/farmx_income)}\n",
    "FUincome_onsite_coal = {globals()['onsite_coal_farm%s' % x]: (1/farmx_income)}\n",
    "FUincome_onsite_animalemi = {globals()['onsite_animalemi_farm%s' % x]: (1/farmx_income)}"
   ]
  },
  {
   "cell_type": "code",
   "execution_count": 69,
   "metadata": {},
   "outputs": [],
   "source": [
    "Fossil = [m for m in bw.methods if 'cumulative energy demand' in str(m) and 'fossil' in str(m) and 'non-renewable energy resources' in str(m)][0]"
   ]
  },
  {
   "cell_type": "code",
   "execution_count": 70,
   "metadata": {},
   "outputs": [],
   "source": [
    "#FU protein\n",
    "#FUprotein_upstream = {globals()['upstream_farm%s' % x]:(1/farmx_income)}\n",
    "#FUprotein_onsite = {globals()['onsite_farm%s' % x]:(1/farmx_income)}"
   ]
  },
  {
   "cell_type": "code",
   "execution_count": 71,
   "metadata": {},
   "outputs": [],
   "source": [
    "globals()['upstreamLCA_farm%s' % x] = bw.LCA(FUincome_upstream, GWP)"
   ]
  },
  {
   "cell_type": "code",
   "execution_count": 72,
   "metadata": {},
   "outputs": [],
   "source": [
    "globals()['onsiteLCA_farm%s' % x] = bw.LCA(FUincome_onsite, GWP)   #onsite resources input only "
   ]
  },
  {
   "cell_type": "code",
   "execution_count": 73,
   "metadata": {},
   "outputs": [],
   "source": [
    "globals()['onsite_diesel_farm%s' % x] = bw.LCA(FUincome_onsite_diesel, GWP)"
   ]
  },
  {
   "cell_type": "code",
   "execution_count": 74,
   "metadata": {},
   "outputs": [],
   "source": [
    "globals()['onsite_coal_farm%s' % x] = bw.LCA(FUincome_onsite_coal, GWP)"
   ]
  },
  {
   "cell_type": "code",
   "execution_count": 75,
   "metadata": {},
   "outputs": [],
   "source": [
    "globals()['onsite_animalemi_farm%s' % x] = bw.LCA(FUincome_onsite_animalemi, GWP)"
   ]
  },
  {
   "cell_type": "markdown",
   "metadata": {},
   "source": [
    "#lci() for all activities: "
   ]
  },
  {
   "cell_type": "code",
   "execution_count": 76,
   "metadata": {},
   "outputs": [],
   "source": [
    "globals()['upstreamLCA_farm%s' % x].lci()  #upstreamLCA_farmx.lci()"
   ]
  },
  {
   "cell_type": "code",
   "execution_count": 77,
   "metadata": {},
   "outputs": [],
   "source": [
    "globals()['onsiteLCA_farm%s' % x].lci()  #onsiteLCA_farmx.lci()"
   ]
  },
  {
   "cell_type": "code",
   "execution_count": 78,
   "metadata": {},
   "outputs": [],
   "source": [
    "globals()['onsite_diesel_farm%s' % x].lci() "
   ]
  },
  {
   "cell_type": "code",
   "execution_count": 79,
   "metadata": {},
   "outputs": [],
   "source": [
    "globals()['onsite_coal_farm%s' % x].lci() "
   ]
  },
  {
   "cell_type": "code",
   "execution_count": 80,
   "metadata": {},
   "outputs": [],
   "source": [
    "globals()['onsite_animalemi_farm%s' % x].lci() "
   ]
  },
  {
   "cell_type": "markdown",
   "metadata": {},
   "source": [
    "#record lci"
   ]
  },
  {
   "cell_type": "code",
   "execution_count": 81,
   "metadata": {},
   "outputs": [],
   "source": [
    "farmxLCA_upstream_rev_activity_dict = {value:key for key, value in globals()['upstreamLCA_farm%s' % x].activity_dict.items()}\n",
    "farmxLCA_upstream_rev_activity_dict\n",
    "farmxLCA_upstream_rev_act_dict, farmxLCA_upstream_rev_product_dict, farmxLCA_upstream_rev_bio_dict = globals()['upstreamLCA_farm%s' % x].reverse_dict()"
   ]
  },
  {
   "cell_type": "code",
   "execution_count": 82,
   "metadata": {},
   "outputs": [
    {
     "data": {
      "text/plain": [
       "2077"
      ]
     },
     "execution_count": 82,
     "metadata": {},
     "output_type": "execute_result"
    }
   ],
   "source": [
    "lci_nrow = len(farmxLCA_upstream_rev_bio_dict)\n",
    "lci_nrow"
   ]
  },
  {
   "cell_type": "code",
   "execution_count": 83,
   "metadata": {},
   "outputs": [],
   "source": [
    "farmxLCA_onsite_rev_activity_dict = {value:key for key, value in globals()['onsiteLCA_farm%s' % x].activity_dict.items()}\n",
    "farmxLCA_onsite_rev_activity_dict\n",
    "farmxLCA_onsite_rev_act_dict, farmxLCA_onsite_rev_product_dict, farmxLCA_onsite_rev_bio_dict = globals()['onsiteLCA_farm%s' % x].reverse_dict()"
   ]
  },
  {
   "cell_type": "code",
   "execution_count": 84,
   "metadata": {},
   "outputs": [],
   "source": [
    "farmxLCA_onsite_diesel_rev_activity_dict = {value:key for key, value in globals()['onsite_diesel_farm%s' % x].activity_dict.items()}\n",
    "farmxLCA_onsite_diesel_rev_activity_dict\n",
    "farmxLCA_onsite_diesel_rev_act_dict, farmxLCA_onsite_diesel_rev_product_dict, farmxLCA_onsite_diesel_rev_bio_dict = globals()['onsite_diesel_farm%s' % x].reverse_dict()"
   ]
  },
  {
   "cell_type": "code",
   "execution_count": 85,
   "metadata": {},
   "outputs": [],
   "source": [
    "farmxLCA_onsite_coal_rev_activity_dict = {value:key for key, value in globals()['onsite_coal_farm%s' % x].activity_dict.items()}\n",
    "farmxLCA_onsite_coal_rev_activity_dict\n",
    "farmxLCA_onsite_coal_rev_act_dict, farmxLCA_onsite_coal_rev_product_dict, farmxLCA_onsite_coal_rev_bio_dict = globals()['onsite_coal_farm%s' % x].reverse_dict()"
   ]
  },
  {
   "cell_type": "code",
   "execution_count": 86,
   "metadata": {},
   "outputs": [],
   "source": [
    "farmxLCA_onsite_animalemi_rev_activity_dict = {value:key for key, value in globals()['onsite_animalemi_farm%s' % x].activity_dict.items()}\n",
    "farmxLCA_onsite_animalemi_rev_activity_dict\n",
    "farmxLCA_onsite_animalemi_rev_act_dict, farmxLCA_onsite_animalemi_rev_product_dict, farmxLCA_onsite_animalemi_rev_bio_dict = globals()['onsite_animalemi_farm%s' % x].reverse_dict()"
   ]
  },
  {
   "cell_type": "code",
   "execution_count": null,
   "metadata": {},
   "outputs": [],
   "source": []
  },
  {
   "cell_type": "code",
   "execution_count": 87,
   "metadata": {
    "scrolled": true
   },
   "outputs": [
    {
     "data": {
      "text/plain": [
       "<18420x18420 sparse matrix of type '<class 'numpy.float64'>'\n",
       "\twith 208709 stored elements in Compressed Sparse Row format>"
      ]
     },
     "execution_count": 87,
     "metadata": {},
     "output_type": "execute_result"
    }
   ],
   "source": [
    "globals()['upstreamLCA_farm%s' % x].technosphere_matrix"
   ]
  },
  {
   "cell_type": "code",
   "execution_count": 88,
   "metadata": {
    "scrolled": true
   },
   "outputs": [
    {
     "data": {
      "text/plain": [
       "<18420x18420 sparse matrix of type '<class 'numpy.float64'>'\n",
       "\twith 208709 stored elements in Compressed Sparse Row format>"
      ]
     },
     "execution_count": 88,
     "metadata": {},
     "output_type": "execute_result"
    }
   ],
   "source": [
    "globals()['onsiteLCA_farm%s' % x].technosphere_matrix"
   ]
  },
  {
   "cell_type": "markdown",
   "metadata": {},
   "source": [
    "GWP calculation"
   ]
  },
  {
   "cell_type": "code",
   "execution_count": 89,
   "metadata": {},
   "outputs": [
    {
     "data": {
      "text/plain": [
       "0.0"
      ]
     },
     "execution_count": 89,
     "metadata": {},
     "output_type": "execute_result"
    }
   ],
   "source": [
    "globals()['onsiteLCA_farm%s' % x].lcia()\n",
    "globals()['onsiteLCA_farm%s' % x].score"
   ]
  },
  {
   "cell_type": "code",
   "execution_count": 90,
   "metadata": {},
   "outputs": [
    {
     "data": {
      "text/plain": [
       "0.06303185148841323"
      ]
     },
     "execution_count": 90,
     "metadata": {},
     "output_type": "execute_result"
    }
   ],
   "source": [
    "globals()['onsite_diesel_farm%s' % x].lcia()\n",
    "globals()['onsite_diesel_farm%s' % x].score"
   ]
  },
  {
   "cell_type": "code",
   "execution_count": 91,
   "metadata": {},
   "outputs": [
    {
     "data": {
      "text/plain": [
       "0.7746407969835932"
      ]
     },
     "execution_count": 91,
     "metadata": {},
     "output_type": "execute_result"
    }
   ],
   "source": [
    "globals()['onsite_coal_farm%s' % x].lcia()\n",
    "globals()['onsite_coal_farm%s' % x].score"
   ]
  },
  {
   "cell_type": "code",
   "execution_count": 92,
   "metadata": {},
   "outputs": [
    {
     "data": {
      "text/plain": [
       "0.9595928817930676"
      ]
     },
     "execution_count": 92,
     "metadata": {},
     "output_type": "execute_result"
    }
   ],
   "source": [
    "globals()['onsite_animalemi_farm%s' % x].lcia()\n",
    "globals()['onsite_animalemi_farm%s' % x].score"
   ]
  },
  {
   "cell_type": "code",
   "execution_count": 94,
   "metadata": {},
   "outputs": [
    {
     "data": {
      "text/plain": [
       "0.7778463000528147"
      ]
     },
     "execution_count": 94,
     "metadata": {},
     "output_type": "execute_result"
    }
   ],
   "source": [
    "globals()['upstreamLCA_farm%s' % x].lcia()\n",
    "globals()['upstreamLCA_farm%s' % x].score"
   ]
  },
  {
   "cell_type": "markdown",
   "metadata": {},
   "source": [
    "Fossil energy"
   ]
  },
  {
   "cell_type": "code",
   "execution_count": 95,
   "metadata": {},
   "outputs": [
    {
     "data": {
      "text/plain": [
       "11.577589845501784"
      ]
     },
     "execution_count": 95,
     "metadata": {},
     "output_type": "execute_result"
    }
   ],
   "source": [
    "globals()['upstreamLCA_farm%s' % x] = bw.LCA(FUincome_upstream, Fossil)\n",
    "globals()['upstreamLCA_farm%s' % x].lci()\n",
    "globals()['upstreamLCA_farm%s' % x].lcia()\n",
    "globals()['upstreamLCA_farm%s' % x].score"
   ]
  },
  {
   "cell_type": "code",
   "execution_count": null,
   "metadata": {},
   "outputs": [],
   "source": []
  },
  {
   "cell_type": "markdown",
   "metadata": {},
   "source": [
    "# final LCI output"
   ]
  },
  {
   "cell_type": "code",
   "execution_count": 96,
   "metadata": {
    "scrolled": false
   },
   "outputs": [
    {
     "data": {
      "text/plain": [
       "<2077x18420 sparse matrix of type '<class 'numpy.float64'>'\n",
       "\twith 294927 stored elements in Compressed Sparse Row format>"
      ]
     },
     "execution_count": 96,
     "metadata": {},
     "output_type": "execute_result"
    }
   ],
   "source": [
    "globals()['upstreamLCA_farm%s' % x].inventory"
   ]
  },
  {
   "cell_type": "code",
   "execution_count": 97,
   "metadata": {
    "scrolled": false
   },
   "outputs": [
    {
     "data": {
      "text/plain": [
       "<2077x18420 sparse matrix of type '<class 'numpy.float64'>'\n",
       "\twith 2 stored elements in Compressed Sparse Row format>"
      ]
     },
     "execution_count": 97,
     "metadata": {},
     "output_type": "execute_result"
    }
   ],
   "source": [
    "globals()['onsiteLCA_farm%s' % x].inventory"
   ]
  },
  {
   "cell_type": "code",
   "execution_count": 98,
   "metadata": {},
   "outputs": [
    {
     "data": {
      "text/plain": [
       "<2077x18420 sparse matrix of type '<class 'numpy.float64'>'\n",
       "\twith 22 stored elements in Compressed Sparse Row format>"
      ]
     },
     "execution_count": 98,
     "metadata": {},
     "output_type": "execute_result"
    }
   ],
   "source": [
    "globals()['onsite_diesel_farm%s' % x].inventory"
   ]
  },
  {
   "cell_type": "code",
   "execution_count": 99,
   "metadata": {},
   "outputs": [
    {
     "data": {
      "text/plain": [
       "<2077x18420 sparse matrix of type '<class 'numpy.float64'>'\n",
       "\twith 72 stored elements in Compressed Sparse Row format>"
      ]
     },
     "execution_count": 99,
     "metadata": {},
     "output_type": "execute_result"
    }
   ],
   "source": [
    "globals()['onsite_coal_farm%s' % x].inventory"
   ]
  },
  {
   "cell_type": "code",
   "execution_count": 100,
   "metadata": {},
   "outputs": [
    {
     "data": {
      "text/plain": [
       "<2077x18420 sparse matrix of type '<class 'numpy.float64'>'\n",
       "\twith 5 stored elements in Compressed Sparse Row format>"
      ]
     },
     "execution_count": 100,
     "metadata": {},
     "output_type": "execute_result"
    }
   ],
   "source": [
    "globals()['onsite_animalemi_farm%s' % x].inventory"
   ]
  },
  {
   "cell_type": "markdown",
   "metadata": {},
   "source": [
    "#store LCI values"
   ]
  },
  {
   "cell_type": "code",
   "execution_count": 101,
   "metadata": {},
   "outputs": [
    {
     "data": {
      "text/plain": [
       "(2077, 1)"
      ]
     },
     "execution_count": 101,
     "metadata": {},
     "output_type": "execute_result"
    }
   ],
   "source": [
    "LCI_cradle_to_gate_upstream = globals()['upstreamLCA_farm%s' % x].inventory.sum(axis=1)   #df.sum(axis=1) -> a row sum; \n",
    "LCI_cradle_to_gate_upstream.shape"
   ]
  },
  {
   "cell_type": "code",
   "execution_count": 102,
   "metadata": {},
   "outputs": [
    {
     "data": {
      "text/plain": [
       "(2077, 1)"
      ]
     },
     "execution_count": 102,
     "metadata": {},
     "output_type": "execute_result"
    }
   ],
   "source": [
    "LCI_cradle_to_gate_onsite = globals()['onsiteLCA_farm%s' % x].inventory.sum(axis=1)   #df.sum(axis=1) -> a row sum; \n",
    "LCI_cradle_to_gate_onsite.shape"
   ]
  },
  {
   "cell_type": "code",
   "execution_count": 103,
   "metadata": {},
   "outputs": [
    {
     "data": {
      "text/plain": [
       "(2077, 1)"
      ]
     },
     "execution_count": 103,
     "metadata": {},
     "output_type": "execute_result"
    }
   ],
   "source": [
    "LCI_cradle_to_gate_onsite_diesel = globals()['onsite_diesel_farm%s' % x].inventory.sum(axis=1)   \n",
    "LCI_cradle_to_gate_onsite_diesel.shape"
   ]
  },
  {
   "cell_type": "code",
   "execution_count": 104,
   "metadata": {},
   "outputs": [
    {
     "data": {
      "text/plain": [
       "(2077, 1)"
      ]
     },
     "execution_count": 104,
     "metadata": {},
     "output_type": "execute_result"
    }
   ],
   "source": [
    "LCI_cradle_to_gate_onsite_coal = globals()['onsite_coal_farm%s' % x].inventory.sum(axis=1)   \n",
    "LCI_cradle_to_gate_onsite_coal.shape"
   ]
  },
  {
   "cell_type": "code",
   "execution_count": 105,
   "metadata": {},
   "outputs": [
    {
     "data": {
      "text/plain": [
       "(2077, 1)"
      ]
     },
     "execution_count": 105,
     "metadata": {},
     "output_type": "execute_result"
    }
   ],
   "source": [
    "LCI_cradle_to_gate_onsite_animalemi = globals()['onsite_animalemi_farm%s' % x].inventory.sum(axis=1)   \n",
    "LCI_cradle_to_gate_onsite_animalemi.shape"
   ]
  },
  {
   "cell_type": "markdown",
   "metadata": {},
   "source": [
    "#store LCI names and categories"
   ]
  },
  {
   "cell_type": "code",
   "execution_count": 106,
   "metadata": {
    "scrolled": true
   },
   "outputs": [],
   "source": [
    "allBioNames_upstream = [bw.get_activity(farmxLCA_upstream_rev_bio_dict[r])['name'] for r in range(lci_nrow)]\n",
    "allBioCompartment_upstream = [bw.get_activity(farmxLCA_upstream_rev_bio_dict[r])['categories'] for r in range(lci_nrow)]"
   ]
  },
  {
   "cell_type": "code",
   "execution_count": 107,
   "metadata": {},
   "outputs": [],
   "source": [
    "allBioNames_onsite = [bw.get_activity(farmxLCA_onsite_rev_bio_dict[r])['name'] for r in range(lci_nrow)]\n",
    "allBioCompartment_onsite = [bw.get_activity(farmxLCA_onsite_rev_bio_dict[r])['categories'] for r in range(lci_nrow)]"
   ]
  },
  {
   "cell_type": "code",
   "execution_count": 108,
   "metadata": {},
   "outputs": [],
   "source": [
    "allBioNames_onsite_diesel = [bw.get_activity(farmxLCA_onsite_diesel_rev_bio_dict[r])['name'] for r in range(lci_nrow)]\n",
    "allBioCompartment_onsite_diesel = [bw.get_activity(farmxLCA_onsite_diesel_rev_bio_dict[r])['categories'] for r in range(lci_nrow)]"
   ]
  },
  {
   "cell_type": "code",
   "execution_count": 109,
   "metadata": {},
   "outputs": [],
   "source": [
    "allBioNames_onsite_coal = [bw.get_activity(farmxLCA_onsite_coal_rev_bio_dict[r])['name'] for r in range(lci_nrow)]\n",
    "allBioCompartment_onsite_coal = [bw.get_activity(farmxLCA_onsite_coal_rev_bio_dict[r])['categories'] for r in range(lci_nrow)]"
   ]
  },
  {
   "cell_type": "code",
   "execution_count": 110,
   "metadata": {},
   "outputs": [],
   "source": [
    "allBioNames_onsite_animalemi = [bw.get_activity(farmxLCA_onsite_animalemi_rev_bio_dict[r])['name'] for r in range(lci_nrow)]\n",
    "allBioCompartment_onsite_animalemi = [bw.get_activity(farmxLCA_onsite_animalemi_rev_bio_dict[r])['categories'] for r in range(lci_nrow)]"
   ]
  },
  {
   "cell_type": "code",
   "execution_count": 111,
   "metadata": {
    "scrolled": true
   },
   "outputs": [],
   "source": [
    "#len(LCI_cradle_to_gate_upstream.tolist()) == len(LCI_cradle_to_gate_onsite.tolist())"
   ]
  },
  {
   "cell_type": "code",
   "execution_count": 112,
   "metadata": {},
   "outputs": [],
   "source": [
    "globals()['upstream_finalLCI_farm%s' % x] = pd.DataFrame({'name' : allBioNames_upstream,\n",
    "                         'categories' : allBioCompartment_upstream,\n",
    "                          'value' : LCI_cradle_to_gate_upstream.tolist()}, \n",
    "                         columns=['name','categories','value'])"
   ]
  },
  {
   "cell_type": "code",
   "execution_count": 113,
   "metadata": {},
   "outputs": [],
   "source": [
    "globals()['onsite_finalLCI_farm%s' % x] = pd.DataFrame({'name' : allBioNames_onsite,\n",
    "                         'categories' : allBioCompartment_onsite,\n",
    "                          'value' : LCI_cradle_to_gate_onsite.tolist()}, \n",
    "                         columns=['name','categories','value'])"
   ]
  },
  {
   "cell_type": "code",
   "execution_count": 114,
   "metadata": {},
   "outputs": [],
   "source": [
    "globals()['onsite_diesel_finalLCI_farm%s' % x] = pd.DataFrame({'name' : allBioNames_onsite_diesel,\n",
    "                         'categories' : allBioCompartment_onsite_diesel,\n",
    "                          'value' : LCI_cradle_to_gate_onsite_diesel.tolist()}, \n",
    "                         columns=['name','categories','value'])"
   ]
  },
  {
   "cell_type": "code",
   "execution_count": 115,
   "metadata": {},
   "outputs": [],
   "source": [
    "globals()['onsite_coal_finalLCI_farm%s' % x] = pd.DataFrame({'name' : allBioNames_onsite_coal,\n",
    "                         'categories' : allBioCompartment_onsite_coal,\n",
    "                          'value' : LCI_cradle_to_gate_onsite_coal.tolist()}, \n",
    "                         columns=['name','categories','value'])"
   ]
  },
  {
   "cell_type": "code",
   "execution_count": 116,
   "metadata": {},
   "outputs": [],
   "source": [
    "globals()['onsite_animalemi_finalLCI_farm%s' % x] = pd.DataFrame({'name' : allBioNames_onsite_animalemi,\n",
    "                         'categories' : allBioCompartment_onsite_animalemi,\n",
    "                          'value' : LCI_cradle_to_gate_onsite_animalemi.tolist()}, \n",
    "                         columns=['name','categories','value'])"
   ]
  },
  {
   "cell_type": "code",
   "execution_count": 117,
   "metadata": {
    "scrolled": true
   },
   "outputs": [],
   "source": [
    "globals()['upstream_finalLCI_farm%s' % x].to_csv(\"farm\" + farmno + \"_upstreamprocess.csv\")"
   ]
  },
  {
   "cell_type": "code",
   "execution_count": 118,
   "metadata": {
    "scrolled": true
   },
   "outputs": [],
   "source": [
    "globals()['onsite_finalLCI_farm%s' % x].to_csv(\"farm\" + farmno + \"_onsiteResource.csv\")"
   ]
  },
  {
   "cell_type": "code",
   "execution_count": 119,
   "metadata": {},
   "outputs": [],
   "source": [
    "globals()['onsite_diesel_finalLCI_farm%s' % x].to_csv(\"farm\" + farmno + \"_onsiteDiesel.csv\")"
   ]
  },
  {
   "cell_type": "code",
   "execution_count": 120,
   "metadata": {},
   "outputs": [],
   "source": [
    "globals()['onsite_coal_finalLCI_farm%s' % x].to_csv(\"farm\" + farmno + \"_onsiteCoal.csv\")"
   ]
  },
  {
   "cell_type": "code",
   "execution_count": 121,
   "metadata": {},
   "outputs": [],
   "source": [
    "globals()['onsite_animalemi_finalLCI_farm%s' % x].to_csv(\"farm\" + farmno + \"_onsiteAnimalemi.csv\")"
   ]
  },
  {
   "cell_type": "code",
   "execution_count": null,
   "metadata": {},
   "outputs": [],
   "source": []
  },
  {
   "cell_type": "code",
   "execution_count": null,
   "metadata": {},
   "outputs": [],
   "source": []
  }
 ],
 "metadata": {
  "kernelspec": {
   "display_name": "Python 3",
   "language": "python",
   "name": "python3"
  },
  "language_info": {
   "codemirror_mode": {
    "name": "ipython",
    "version": 3
   },
   "file_extension": ".py",
   "mimetype": "text/x-python",
   "name": "python",
   "nbconvert_exporter": "python",
   "pygments_lexer": "ipython3",
   "version": "3.7.4"
  }
 },
 "nbformat": 4,
 "nbformat_minor": 4
}
