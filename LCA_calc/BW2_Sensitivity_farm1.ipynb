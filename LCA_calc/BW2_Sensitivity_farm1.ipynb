{
 "cells": [
  {
   "cell_type": "code",
   "execution_count": 1,
   "metadata": {},
   "outputs": [],
   "source": [
    "import brightway2 as bw\n",
    "import os               # to use \"operating system dependent functionality\"\n",
    "import numpy as np      # \"the fundamental package for scientific computing with Python\"\n",
    "import pandas as pd     # \"high-performance, easy-to-use data structures and data analysis tools\" for Python\n",
    "import time"
   ]
  },
  {
   "cell_type": "code",
   "execution_count": 2,
   "metadata": {
    "scrolled": true
   },
   "outputs": [],
   "source": [
    "#bw.projects()\n",
    "bw.projects.set_current(\"SpLCA_farm2020\")"
   ]
  },
  {
   "cell_type": "code",
   "execution_count": 6,
   "metadata": {
    "scrolled": true
   },
   "outputs": [
    {
     "data": {
      "text/plain": [
       "Brightway2 SQLiteBackend: biosphere3"
      ]
     },
     "execution_count": 6,
     "metadata": {},
     "output_type": "execute_result"
    }
   ],
   "source": [
    "bw.Database('biosphere3')"
   ]
  },
  {
   "cell_type": "code",
   "execution_count": 7,
   "metadata": {},
   "outputs": [
    {
     "data": {
      "text/plain": [
       "Brightway2 SQLiteBackend: ecoinvent 3.6 cutoff"
      ]
     },
     "execution_count": 7,
     "metadata": {},
     "output_type": "execute_result"
    }
   ],
   "source": [
    "bw.Database('ecoinvent 3.6 cutoff')"
   ]
  },
  {
   "cell_type": "code",
   "execution_count": 8,
   "metadata": {},
   "outputs": [
    {
     "data": {
      "text/plain": [
       "4321"
      ]
     },
     "execution_count": 8,
     "metadata": {},
     "output_type": "execute_result"
    }
   ],
   "source": [
    "my_bio = bw.Database('biosphere3')\n",
    "len(my_bio)  #4321"
   ]
  },
  {
   "cell_type": "code",
   "execution_count": 9,
   "metadata": {},
   "outputs": [],
   "source": [
    "eidb = bw.Database('ecoinvent 3.6 cutoff')"
   ]
  },
  {
   "cell_type": "code",
   "execution_count": 10,
   "metadata": {
    "scrolled": true
   },
   "outputs": [
    {
     "data": {
      "text/plain": [
       "Databases dictionary with 2 object(s):\n",
       "\tbiosphere3\n",
       "\tecoinvent 3.6 cutoff"
      ]
     },
     "execution_count": 10,
     "metadata": {},
     "output_type": "execute_result"
    }
   ],
   "source": [
    "bw.databases        "
   ]
  },
  {
   "cell_type": "markdown",
   "metadata": {},
   "source": [
    "# create empty activity (to be used in foreground) and search ecoinvent  "
   ]
  },
  {
   "cell_type": "code",
   "execution_count": 19,
   "metadata": {},
   "outputs": [],
   "source": [
    "#define farm # here in x: \n",
    "x = 1\n",
    "farmno = str(x)"
   ]
  },
  {
   "cell_type": "markdown",
   "metadata": {},
   "source": [
    "#delete all activities that were accidentally created"
   ]
  },
  {
   "cell_type": "code",
   "execution_count": 11,
   "metadata": {},
   "outputs": [],
   "source": [
    "for activity in [act for act in eidb if act['code']== \"2e27e70023bf4a59a7611166b3f14856\" ]: \n",
    "    activity.delete()"
   ]
  },
  {
   "cell_type": "code",
   "execution_count": 17,
   "metadata": {},
   "outputs": [],
   "source": [
    "#[act for act in eidb if act['name'] == \"diesel, burned in agricultural machinery\"]\n",
    "for activity in [act for act in eidb if act['code']== \"81447debad5a4aeab9ded35a3bfa6d5e\"]: \n",
    "    activity.delete()"
   ]
  },
  {
   "cell_type": "code",
   "execution_count": 20,
   "metadata": {},
   "outputs": [],
   "source": [
    "for activity in [act for act in eidb if act['name']== \"farm_diesel_burnEmi\" ]:\n",
    "    activity.delete()"
   ]
  },
  {
   "cell_type": "code",
   "execution_count": 21,
   "metadata": {},
   "outputs": [],
   "source": [
    "for activity in [act for act in eidb if act['name']== \"farm_coal_burnEmi\" ]:\n",
    "    activity.delete()"
   ]
  },
  {
   "cell_type": "code",
   "execution_count": 22,
   "metadata": {},
   "outputs": [],
   "source": [
    "for activity in [act for act in eidb if act['name']== \"farm\" + farmno +\"_upstream_allinput\" ]:\n",
    "    activity.delete()"
   ]
  },
  {
   "cell_type": "code",
   "execution_count": 23,
   "metadata": {
    "scrolled": true
   },
   "outputs": [],
   "source": [
    "for activity in [act for act in eidb if act['name']== \"farm\" + farmno +\"_onfarmprocess\" ]:\n",
    "    activity.delete()"
   ]
  },
  {
   "cell_type": "code",
   "execution_count": 24,
   "metadata": {},
   "outputs": [],
   "source": [
    "for activity in [act for act in eidb if act['name']== \"farm\" + farmno + '_onsite_dieselburn']:\n",
    "    activity.delete()"
   ]
  },
  {
   "cell_type": "code",
   "execution_count": 25,
   "metadata": {},
   "outputs": [],
   "source": [
    "for activity in [act for act in eidb if act['name']== \"farm\" + farmno + '_onsite_coalburn']:\n",
    "    activity.delete()"
   ]
  },
  {
   "cell_type": "code",
   "execution_count": 26,
   "metadata": {},
   "outputs": [],
   "source": [
    "for activity in [act for act in eidb if act['name']== \"farm\" + farmno + '_onsite_animalemi']:\n",
    "    activity.delete()"
   ]
  },
  {
   "cell_type": "code",
   "execution_count": 27,
   "metadata": {},
   "outputs": [],
   "source": [
    "locals()['upstream_farm%s' % x] = eidb.new_activity(code = \"farmnewSA\"+farmno+\"_upstream\", name = \"farm\" + farmno +\"_upstream_allinput\", unit = \"unit\")\n",
    "locals()['upstream_farm%s' % x].save()"
   ]
  },
  {
   "cell_type": "code",
   "execution_count": 28,
   "metadata": {
    "scrolled": true
   },
   "outputs": [],
   "source": [
    "locals()['onsite_farm%s' % x] = eidb.new_activity(code = \"farmnewSA\"+farmno+\"_processing\", name = \"farm\" + farmno +\"_onfarmprocess\", unit = \"unit\")\n",
    "locals()['onsite_farm%s' % x].save()"
   ]
  },
  {
   "cell_type": "code",
   "execution_count": 29,
   "metadata": {},
   "outputs": [],
   "source": [
    "locals()['onsite_diesel_farm%s' % x] = eidb.new_activity(code = \"farmnewSA\"+farmno+\"_processing_diesel\", name = \"farm\" + farmno +\"_onsite_dieselburn\", unit = \"unit\")\n",
    "locals()['onsite_diesel_farm%s' % x].save()"
   ]
  },
  {
   "cell_type": "code",
   "execution_count": 30,
   "metadata": {},
   "outputs": [],
   "source": [
    "locals()['onsite_coal_farm%s' % x] = eidb.new_activity(code = \"farmnewSA\"+farmno+\"_processing_coal\", name = \"farm\" + farmno +\"_onsite_coalburn\", unit = \"unit\")\n",
    "locals()['onsite_coal_farm%s' % x].save()"
   ]
  },
  {
   "cell_type": "code",
   "execution_count": 31,
   "metadata": {},
   "outputs": [],
   "source": [
    "locals()['onsite_animalemi_farm%s' % x] = eidb.new_activity(code = \"farmnewSA\"+farmno+\"_processing_animal\", name = \"farm\" + farmno +\"_onsite_animalemi\", unit = \"unit\")\n",
    "locals()['onsite_animalemi_farm%s' % x].save()"
   ]
  },
  {
   "cell_type": "code",
   "execution_count": 34,
   "metadata": {},
   "outputs": [],
   "source": [
    "# 1 MJ (0.0222 kg) diesel burned for running a tractor with a trailer.\n",
    "diesel_burn = [act for act in eidb if act['name']=='diesel, burned in agricultural machinery'][0]"
   ]
  },
  {
   "cell_type": "code",
   "execution_count": 33,
   "metadata": {},
   "outputs": [],
   "source": [
    "#[exc for exc in [act for act in eidb if act['name']=='diesel, burned in agricultural machinery'][0].biosphere()]"
   ]
  },
  {
   "cell_type": "code",
   "execution_count": 35,
   "metadata": {},
   "outputs": [],
   "source": [
    "farm_diesel_burnEmi = diesel_burn.copy()"
   ]
  },
  {
   "cell_type": "code",
   "execution_count": 36,
   "metadata": {},
   "outputs": [
    {
     "name": "stdout",
     "output_type": "stream",
     "text": [
      "Exchange: 1.0 megajoule 'diesel, burned in agricultural machinery' (megajoule, GLO, None) to 'diesel, burned in agricultural machinery' (megajoule, GLO, None)>\n",
      "Exchange: 2.22222222222e-10 kilogram 'Selenium' (kilogram, None, ('air', 'non-urban air or from high stacks')) to 'diesel, burned in agricultural machinery' (megajoule, GLO, None)>\n",
      "Exchange: 1.62079510703e-07 kilogram 'Benzene' (kilogram, None, ('air', 'non-urban air or from high stacks')) to 'diesel, burned in agricultural machinery' (megajoule, GLO, None)>\n",
      "Exchange: 2.66564729867e-06 kilogram 'Dinitrogen monoxide' (kilogram, None, ('air', 'non-urban air or from high stacks')) to 'diesel, burned in agricultural machinery' (megajoule, GLO, None)>\n",
      "Exchange: 1.07033639144e-05 kilogram 'Zinc' (kilogram, None, ('soil', 'agricultural')) to 'diesel, burned in agricultural machinery' (megajoule, GLO, None)>\n",
      "Exchange: 0.000866462793068 kilogram 'Nitrogen oxides' (kilogram, None, ('air', 'non-urban air or from high stacks')) to 'diesel, burned in agricultural machinery' (megajoule, GLO, None)>\n",
      "Exchange: 1.55453618756e-09 kilogram 'Nickel' (kilogram, None, ('air', 'non-urban air or from high stacks')) to 'diesel, burned in agricultural machinery' (megajoule, GLO, None)>\n",
      "Exchange: 4.44444444444e-07 kilogram 'Ammonia' (kilogram, None, ('air', 'non-urban air or from high stacks')) to 'diesel, burned in agricultural machinery' (megajoule, GLO, None)>\n",
      "Exchange: 0.000130479102956 kilogram 'Carbon monoxide, fossil' (kilogram, None, ('air', 'non-urban air or from high stacks')) to 'diesel, burned in agricultural machinery' (megajoule, GLO, None)>\n",
      "Exchange: 2.22222222222e-10 kilogram 'Cadmium' (kilogram, None, ('air', 'non-urban air or from high stacks')) to 'diesel, burned in agricultural machinery' (megajoule, GLO, None)>\n",
      "Exchange: 2.22222222222e-08 kilogram 'Zinc' (kilogram, None, ('air', 'non-urban air or from high stacks')) to 'diesel, burned in agricultural machinery' (megajoule, GLO, None)>\n",
      "Exchange: 0.0693170234455 kilogram 'Carbon dioxide, fossil' (kilogram, None, ('air', 'non-urban air or from high stacks')) to 'diesel, burned in agricultural machinery' (megajoule, GLO, None)>\n",
      "Exchange: 1.11111111111e-09 kilogram 'Chromium' (kilogram, None, ('air', 'non-urban air or from high stacks')) to 'diesel, burned in agricultural machinery' (megajoule, GLO, None)>\n",
      "Exchange: 6.67686034659e-10 kilogram 'Benzo(a)pyrene' (kilogram, None, ('air', 'non-urban air or from high stacks')) to 'diesel, burned in agricultural machinery' (megajoule, GLO, None)>\n",
      "Exchange: 1.74821610601e-08 kilogram 'Lead' (kilogram, None, ('soil', 'agricultural')) to 'diesel, burned in agricultural machinery' (megajoule, GLO, None)>\n",
      "Exchange: 0.000109072375127 kilogram 'Particulates, < 2.5 um' (kilogram, None, ('air', 'non-urban air or from high stacks')) to 'diesel, burned in agricultural machinery' (megajoule, GLO, None)>\n",
      "Exchange: 1.00917431193 megajoule 'Heat, waste' (megajoule, None, ('air', 'non-urban air or from high stacks')) to 'diesel, burned in agricultural machinery' (megajoule, GLO, None)>\n",
      "Exchange: 4.76554536188e-05 kilogram 'NMVOC, non-methane volatile organic compounds, unspecified origin' (kilogram, None, ('air', 'non-urban air or from high stacks')) to 'diesel, burned in agricultural machinery' (megajoule, GLO, None)>\n",
      "Exchange: 2.86952089704e-06 kilogram 'Methane, fossil' (kilogram, None, ('air', 'non-urban air or from high stacks')) to 'diesel, burned in agricultural machinery' (megajoule, GLO, None)>\n",
      "Exchange: 7.28848114169e-08 kilogram 'PAH, polycyclic aromatic hydrocarbons' (kilogram, None, ('air', 'non-urban air or from high stacks')) to 'diesel, burned in agricultural machinery' (megajoule, GLO, None)>\n",
      "Exchange: 3.9755351682e-09 kilogram 'Cadmium' (kilogram, None, ('soil', 'agricultural')) to 'diesel, burned in agricultural machinery' (megajoule, GLO, None)>\n",
      "Exchange: 2.24260958206e-05 kilogram 'Sulfur dioxide' (kilogram, None, ('air', 'non-urban air or from high stacks')) to 'diesel, burned in agricultural machinery' (megajoule, GLO, None)>\n",
      "Exchange: 3.77675840979e-08 kilogram 'Copper' (kilogram, None, ('air', 'non-urban air or from high stacks')) to 'diesel, burned in agricultural machinery' (megajoule, GLO, None)>\n"
     ]
    }
   ],
   "source": [
    "farm_diesel_burnEmi.technosphere().delete()   #delete tech input from original ecoinvent and leave only burning emissions\n",
    "for exc in farm_diesel_burnEmi.exchanges(): print(exc)"
   ]
  },
  {
   "cell_type": "code",
   "execution_count": 37,
   "metadata": {
    "scrolled": true
   },
   "outputs": [],
   "source": [
    "#for x in [act for act in eidb if act['name']=='heat production, lignite briquette, at stove 5-15kW' and 'RoW' in act['location']]: \n",
    "#    for exc in x.technosphere(): print(exc)"
   ]
  },
  {
   "cell_type": "code",
   "execution_count": 38,
   "metadata": {},
   "outputs": [],
   "source": [
    "coal_burn = [act for act in eidb if act['name']=='heat production, lignite briquette, at stove 5-15kW' and 'RoW' in act['location']][0]"
   ]
  },
  {
   "cell_type": "code",
   "execution_count": 39,
   "metadata": {},
   "outputs": [],
   "source": [
    "farm_coal_burnEmi = coal_burn.copy() #heating value (19.5 MJ/kg), unit: megajoule"
   ]
  },
  {
   "cell_type": "code",
   "execution_count": 40,
   "metadata": {},
   "outputs": [],
   "source": [
    "farm_coal_burnEmi.technosphere().delete()\n",
    "for exc in farm_coal_burnEmi.technosphere(): print(exc)"
   ]
  },
  {
   "cell_type": "markdown",
   "metadata": {},
   "source": [
    "## sensitivity analysis (SA) on replacing coal with: \n",
    "1. anthracite\n",
    "2. natural gas\n",
    "\n",
    "#heat production, anthracite, at stove 5-15kW    #anthracite is a smokeless high-quality alternative compared to lignite (e.g. brown coal)\n",
    "#heat production, natural gas, at boiler fan burner non-modulating <100kW\n",
    "\n",
    "- Heating value (MJ/kg) according to the ecoinvent:\n",
    " - Anthracite\t(32.4)\n",
    " - Lignite\t(19.5)\n",
    "\n",
    "- For farm1, total consumption of 8500kg lignite convert to anthracite (kg) is: \n",
    " - 8500 * 19.5 / 32.4 = 5115.7 kg of anthracite\n",
    "\n",
    "- Heating value (MJ/m3) for natural gas is approximately 38.3 (MJ/m3), for farm1, total consumption of NG (m3) is: \n",
    " - 8500 * 19.5 / 38.3 = 4327.7 m3 of NG\n",
    "\n",
    "\n",
    "- total annual heat production (MJ) is same for all scenarios:\n",
    "  - 8500 * 19.5 = 165750 MJ\n",
    "\n",
    "####### above assumption only replace the fuel source (lignite by anthracite/NG) without further considering the impacts of fuel source on the equipment efficiency, and total annual heat production is same = 8500 * 19.5 = 165750 MJ\n",
    "\n"
   ]
  },
  {
   "cell_type": "code",
   "execution_count": 67,
   "metadata": {},
   "outputs": [],
   "source": [
    "for activity in [act for act in eidb if act['name']== \"farm\" + farmno +\"SA_upstream_allinput\" ]:\n",
    "    activity.delete()\n",
    "    \n",
    "for activity in [act for act in eidb if act['name']== \"farm\" + farmno + 'SA_onsite_anthraciteburn']:\n",
    "    activity.delete()"
   ]
  },
  {
   "cell_type": "code",
   "execution_count": 68,
   "metadata": {},
   "outputs": [],
   "source": [
    "for activity in [act for act in eidb if act['name']== \"farm\" + farmno +\"SA2NG_upstream_allinput\"]:\n",
    "    activity.delete()\n",
    "\n",
    "for activity in [act for act in eidb if act['name']== \"farm\" + farmno +\"SA2NG_onsite_NGburn\"]:\n",
    "    activity.delete()"
   ]
  },
  {
   "cell_type": "code",
   "execution_count": 69,
   "metadata": {},
   "outputs": [],
   "source": [
    "locals()['SA_upstream_farm%s' % x] = eidb.new_activity(code = \"SA_farmtest\"+farmno+\"_upstream\", name = \"farm\" + farmno +\"SA_upstream_allinput\", unit = \"unit\")\n",
    "locals()['SA_upstream_farm%s' % x].save()"
   ]
  },
  {
   "cell_type": "code",
   "execution_count": 70,
   "metadata": {},
   "outputs": [],
   "source": [
    "locals()['SA_onsite_anthracit_farm%s' % x] = eidb.new_activity(code = \"SA_farmtest\"+farmno+\"_processing_coal\", name = \"farm\" + farmno +\"SA_onsite_anthraciteburn\", unit = \"unit\")\n",
    "locals()['SA_onsite_anthracit_farm%s' % x].save()"
   ]
  },
  {
   "cell_type": "code",
   "execution_count": 124,
   "metadata": {},
   "outputs": [],
   "source": [
    "locals()['SA2NG_upstream_farm%s' % x] = eidb.new_activity(code = \"SA2NG_farmtest\"+farmno+\"_upstream\", name = \"farm\" + farmno +\"SA2NG_upstream_allinput\", unit = \"unit\")\n",
    "locals()['SA2NG_upstream_farm%s' % x].save()"
   ]
  },
  {
   "cell_type": "code",
   "execution_count": 125,
   "metadata": {},
   "outputs": [],
   "source": [
    "locals()['SA2NG_onsite_NG_farm%s' % x] = eidb.new_activity(code = \"SA2NG_farmtest\"+farmno+\"_processing_NG\", name = \"farm\" + farmno +\"SA2NG_onsite_NGburn\", unit = \"unit\")\n",
    "locals()['SA2NG_onsite_NG_farm%s' % x].save()"
   ]
  },
  {
   "cell_type": "markdown",
   "metadata": {},
   "source": [
    "below extract onsite emission from anthracite / NG burning"
   ]
  },
  {
   "cell_type": "code",
   "execution_count": 71,
   "metadata": {},
   "outputs": [],
   "source": [
    "anthracite_burn = [act for act in eidb if 'heat production, anthracite, at stove 5-15kW' in act['name'] and 'RoW' in act['location']][0]"
   ]
  },
  {
   "cell_type": "code",
   "execution_count": 72,
   "metadata": {},
   "outputs": [],
   "source": [
    "farm_anthracite_burnEmi = anthracite_burn.copy()"
   ]
  },
  {
   "cell_type": "code",
   "execution_count": 73,
   "metadata": {},
   "outputs": [],
   "source": [
    "farm_anthracite_burnEmi.technosphere().delete()\n",
    "#for exc in farm_anthracite_burnEmi.technosphere(): print(exc)\n",
    "#for exc in farm_anthracite_burnEmi.biosphere(): print(exc)"
   ]
  },
  {
   "cell_type": "code",
   "execution_count": 121,
   "metadata": {},
   "outputs": [],
   "source": [
    "NG_burn = [act for act in eidb if act['name'] == 'heat production, natural gas, at boiler fan burner non-modulating <100kW' and 'RoW' in act['location']][0]"
   ]
  },
  {
   "cell_type": "code",
   "execution_count": 122,
   "metadata": {},
   "outputs": [],
   "source": [
    "farm_NG_burnEmi = NG_burn.copy()"
   ]
  },
  {
   "cell_type": "code",
   "execution_count": 123,
   "metadata": {},
   "outputs": [],
   "source": [
    "farm_NG_burnEmi.technosphere().delete()"
   ]
  },
  {
   "cell_type": "markdown",
   "metadata": {},
   "source": [
    "### upstream production (not use copy())"
   ]
  },
  {
   "cell_type": "code",
   "execution_count": 120,
   "metadata": {},
   "outputs": [],
   "source": [
    "#farmx_naturalgas = [act for act in eidb if act['name']=='market for natural gas, low pressure' and 'RoW' in act['location']][0]"
   ]
  },
  {
   "cell_type": "code",
   "execution_count": 12,
   "metadata": {},
   "outputs": [],
   "source": [
    "#upstream production\n",
    "#kilowatt hour\n",
    "farmx_elec = [act for act in eidb if act['name']=='electricity production, hard coal' and 'CN-NM' in act['location']][0]\n",
    "#megajoule\n",
    "farmx_diesel = [act for act in eidb if act['name']=='market for diesel, burned in agricultural machinery' and 'GLO' in act['location']][0]\n",
    "#megajoule\n",
    "farmx_coal = [act for act in eidb if act['name']=='market for lignite briquettes' and 'RoW' in act['location']][0]\n",
    "\n",
    "\n",
    "##############################  alternative anthracite / NG (replacing lignite) ##########################################\n",
    "#kilogram\n",
    "farmx_anthracite = [act for act in eidb if act['name']=='market for hard coal' and 'CN' in act['location']][0]  \n",
    "#cubic meter\n",
    "farmx_naturalgas = [act for act in eidb if act['name']=='market for natural gas, low pressure' and 'RoW' in act['location']][0]\n",
    "#####################################################################################################################\n",
    "\n",
    "\n",
    "#feed options, pelletfeed and concentrated feed using \"market for protein feed\" \n",
    "#（玉米粉/玉米糠/玉米面 maizechop）（玉米皮/玉米饼/玉米粒/玉米料/喷浆玉米 maizegrain）   (青贮玉米 maize silage)\n",
    "farmx_pelletfeed = [act for act in eidb if 'market for protein feed, 100% crude' in act['name']][0]\n",
    "farmx_soybeanmeal = [act for act in eidb if act['name']=='soybean meal to generic market for protein feed' and act['unit'] == 'kilogram'][0]\n",
    "farmx_cottonseedmeal = [act for act in eidb if act['name']=='cottonseed meal to generic market for protein feed' and act['unit'] == 'kilogram'][0]\n",
    "farmx_vinasse = [act for act in eidb if 'Dried Grains with Solubles to generic market for protein feed' in act['name'] and act['unit'] == 'kilogram'][0]\n",
    "farmx_rapemeal = [act for act in eidb if act['name']=='rape meal to generic market for protein feed' and act['unit'] == 'kilogram'][0]\n",
    "farmx_wheatbran = [act for act in eidb if act['name']=='wheat bran to generic market for energy feed' and act['unit'] == 'kilogram' and 'RoW' in act['location']][0]\n",
    "farmx_maizechop = [act for act in eidb if act['name']=='maize chop to generic market for energy feed' and act['unit'] == 'kilogram' and 'RoW' in act['location']][0]\n",
    "farmx_hay = [act for act in eidb if act['name'] == 'market for hay'][0]\n",
    "farmx_straw = [act for act in eidb if 'market for straw, stand-alone production' in act['name'] and 'RoW' in act['location']][0]\n",
    "farmx_maizesilage = [act for act in eidb if 'market for maize silage' in act['name'] and 'RoW' in act['location']][0]\n",
    "farmx_grasssilage = [act for act in eidb if 'grass silage production' in act['name'] and 'RoW' in act['location']][0]\n",
    "farmx_maizegrain = [act for act in eidb if act['name']=='market for maize grain' and 'RoW' in act['location']][0]\n",
    "farmx_milk = [act for act in eidb if act['name']=='skimmed milk, from cow milk to generic market for protein feed' and act['unit'] == 'kilogram'][0]\n",
    "#farmx_wheatgrain = [act for act in eidb if act['name']=='wheat grain, feed production' and 'RoW' in act['location']][0]\n",
    "#farmx_barleygrain = [act for act in eidb if act['name']=='barley grain, feed production' and 'RoW' in act['location']][0]\n",
    "#farmx_meatbonemeal = [act for act in eidb if act['name']=='meat and bone meal to generic market for protein feed' and act['unit'] == 'kilogram' and 'RoW' in act['location']][0] \n"
   ]
  },
  {
   "cell_type": "markdown",
   "metadata": {},
   "source": [
    "### natural resources input"
   ]
  },
  {
   "cell_type": "code",
   "execution_count": 41,
   "metadata": {},
   "outputs": [],
   "source": [
    "#water, cubic meter\n",
    "farmx_input_water_unspecified = [act for act in my_bio if act['name']=='Water, unspecified natural origin' and act['type'] =='natural resource'\n",
    "  and 'natural resource' in str(act['categories']) and 'in water' in str(act['categories'])][0]"
   ]
  },
  {
   "cell_type": "code",
   "execution_count": 42,
   "metadata": {},
   "outputs": [],
   "source": [
    "#pasture, square meter-year\n",
    "farmx_input_pasture = [act for act in my_bio if act['name'] == 'Occupation, grassland, natural, for livestock grazing'][0]"
   ]
  },
  {
   "cell_type": "markdown",
   "metadata": {},
   "source": [
    "### direct onsite emissions from DairyGEM model"
   ]
  },
  {
   "cell_type": "code",
   "execution_count": 43,
   "metadata": {},
   "outputs": [],
   "source": [
    "#direct onsite emissions\n",
    "#my_bio.search('ammonia')\n",
    "#bw.Database('biosphere3').search('carbon dioxide', filter={'categories':'urban', 'name':'fossil'})\n",
    "#bw.Database('biosphere3').search('ammonia', filter={'categories':'non-urban'})\n",
    "farmx_emi_ammonia = [act for act in my_bio if act['name']=='Ammonia' and 'air' and 'non-urban air or from high stacks' in str(act['categories'])][0]\n",
    "farmx_emi_hydrosulfide = [act for act in my_bio if act['name']=='Hydrogen sulfide' and 'air' in str(act['categories']) and 'non-urban air or from high stacks' in str(act['categories'])][0]\n",
    "farmx_emi_methane = [act for act in my_bio if act['name']=='Methane'][0]\n",
    "farmx_emi_VOC = [act for act in my_bio if 'NMVOC, non-methane volatile organic compounds, unspecified origin' in act['name'] and 'non-urban air or from high stacks' in str(act['categories'])][0]\n",
    "farmx_emi_nitroxides = [act for act in my_bio if 'Nitrogen oxides' in act['name'] and 'non-urban air or from high stacks' in str(act['categories'])][0]\n",
    "#farmx_emi_bioCO2 = [act for act in my_bio if 'Carbon dioxide, non-fossil' in act['name'] and 'non-urban air or from high stacks' in str(act['categories'])][0]\n",
    "#farmx_emi_soil = [act for act in my_bio if act['name']=='Nitrate' and 'soil' in str(act['categories'])][0]\n",
    "#farmx_emi_nitrate_water = [act for act in my_bio if act['name']=='Nitrate' and 'water' in str(act['categories'])][0]"
   ]
  },
  {
   "cell_type": "code",
   "execution_count": null,
   "metadata": {},
   "outputs": [],
   "source": []
  },
  {
   "cell_type": "markdown",
   "metadata": {},
   "source": [
    "# Creating foreground system for farmx"
   ]
  },
  {
   "cell_type": "code",
   "execution_count": 126,
   "metadata": {},
   "outputs": [],
   "source": [
    "#feed input, change amount (kg) for each farm here\n",
    "pelletfeed_amt = 12000\n",
    "soybeanmeal_amt =  0\n",
    "cottonseedmeal_amt = 0\n",
    "vinasse_amt = 0\n",
    "rapemeal_amt = 0\n",
    "wheatbran_amt = 0\n",
    "maizechop_amt =  0\n",
    "meatbonemeal_amt = 0\n",
    "hay_amt = 25000                      #this is purchased hay, not produced onsite\n",
    "straw_amt = 0\n",
    "maizesilage_amt = 0\n",
    "grasssilage_amt = 0 \n",
    "wheatgrain_amt = 0 \n",
    "barleygrain_amt = 0\n",
    "maizegrain_amt = 0\n",
    "milk_amt = 0\n",
    "\n",
    "#resource input\n",
    "water_amt = 12161                          #m3\n",
    "land_amt = 60 * 10000                      #ha to m2\n",
    "\n",
    "#energy input \n",
    "elec_amt = 2040   \n",
    "coal_amt_kg = 8500         #convert to MJ\n",
    "coal_amt_MJ = coal_amt_kg * 19.5   #19.5 MJ/kg for coal\n",
    "diesel_amt_liter = 300     #convert to MJ\n",
    "diesel_amt_MJ = diesel_amt_liter * 0.832 * 45.045  #45.045 MJ/kg  | 0.832kg/L for diesel\n",
    "\n",
    "\n",
    "##############################  alternative anthracite (replacing lignite) ##########################################\n",
    "anthracite_amt_kg = 8500 * 19.5 / 32.4                 # in kg \n",
    "anthracite_amt_MJ = coal_amt_kg * 19.5   # same amount of MJ \n",
    "NG_amt_m3 = 8500 * 19.5 / 38.3     # in m3 \n",
    "NG_amt_MJ =  coal_amt_kg * 19.5   # same amount of MJ \n",
    "#####################################################################################################################\n",
    "\n",
    "\n",
    "#farm emission output (annual kg)\n",
    "ammonia_amt = 122\n",
    "hydrosulfide_amt = 1\n",
    "methane_amt = 995\n",
    "nitroxides_amt = 1\n",
    "VOC_amt = 9"
   ]
  },
  {
   "cell_type": "code",
   "execution_count": 45,
   "metadata": {},
   "outputs": [],
   "source": [
    "#technosphere input all written to farmx_upstream\n",
    "locals()['upstream_farm%s' % x].new_exchange(input=farmx_elec.key,amount=elec_amt,unit=\"kilowatt hour\",type='technosphere').save()\n",
    "locals()['upstream_farm%s' % x].new_exchange(input=farmx_diesel.key,amount=diesel_amt_MJ,unit=\"megajoule\",type='technosphere').save()\n",
    "locals()['upstream_farm%s' % x].new_exchange(input=farmx_coal.key,amount=coal_amt_MJ,unit=\"megajoule\",type='technosphere').save()\n",
    "locals()['upstream_farm%s' % x].new_exchange(input=farmx_pelletfeed.key,amount=pelletfeed_amt,unit=\"kilogram\",type='technosphere').save()\n",
    "locals()['upstream_farm%s' % x].new_exchange(input=farmx_soybeanmeal.key,amount=soybeanmeal_amt,unit=\"kilogram\",type='technosphere').save()\n",
    "locals()['upstream_farm%s' % x].new_exchange(input=farmx_cottonseedmeal.key,amount=cottonseedmeal_amt,unit=\"kilogram\",type='technosphere').save()\n",
    "locals()['upstream_farm%s' % x].new_exchange(input=farmx_vinasse.key,amount=vinasse_amt,unit=\"kilogram\",type='technosphere').save()\n",
    "locals()['upstream_farm%s' % x].new_exchange(input=farmx_rapemeal.key,amount=rapemeal_amt,unit=\"kilogram\",type='technosphere').save()\n",
    "locals()['upstream_farm%s' % x].new_exchange(input=farmx_wheatbran.key,amount=wheatbran_amt,unit=\"kilogram\",type='technosphere').save()\n",
    "locals()['upstream_farm%s' % x].new_exchange(input=farmx_maizechop.key,amount=maizechop_amt,unit=\"kilogram\",type='technosphere').save()\n",
    "locals()['upstream_farm%s' % x].new_exchange(input=farmx_hay.key,amount=hay_amt,unit=\"kilogram\",type='technosphere').save()\n",
    "locals()['upstream_farm%s' % x].new_exchange(input=farmx_straw.key,amount=straw_amt,unit=\"kilogram\",type='technosphere').save()\n",
    "locals()['upstream_farm%s' % x].new_exchange(input=farmx_maizesilage.key,amount=maizesilage_amt,unit=\"kilogram\",type='technosphere').save()\n",
    "locals()['upstream_farm%s' % x].new_exchange(input=farmx_grasssilage.key,amount=grasssilage_amt,unit=\"kilogram\",type='technosphere').save()\n",
    "locals()['upstream_farm%s' % x].new_exchange(input=farmx_maizegrain.key,amount=maizegrain_amt,unit=\"kilogram\",type='technosphere').save()\n",
    "locals()['upstream_farm%s' % x].new_exchange(input=farmx_milk.key,amount=milk_amt,unit=\"kilogram\",type='technosphere').save()\n",
    "#globals()['upstream_farm%s' % x].save()"
   ]
  },
  {
   "cell_type": "markdown",
   "metadata": {},
   "source": [
    "on-site processes"
   ]
  },
  {
   "cell_type": "code",
   "execution_count": 46,
   "metadata": {},
   "outputs": [],
   "source": [
    "#direct emissions from diesel and coal burning, each for (1MJ) emission\n",
    "locals()['onsite_diesel_farm%s' % x].new_exchange(input=farm_diesel_burnEmi.key,amount=diesel_amt_MJ,unit=\"megajoule\",type='technosphere').save()\n",
    "#farm1_processing.save()"
   ]
  },
  {
   "cell_type": "code",
   "execution_count": 47,
   "metadata": {},
   "outputs": [],
   "source": [
    "locals()['onsite_coal_farm%s' % x].new_exchange(input=farm_coal_burnEmi.key,amount=coal_amt_MJ,unit=\"megajoule\",type='technosphere').save()"
   ]
  },
  {
   "cell_type": "code",
   "execution_count": 48,
   "metadata": {},
   "outputs": [],
   "source": [
    "#direct animal emissions \n",
    "locals()['onsite_animalemi_farm%s' % x].new_exchange(input=farmx_emi_ammonia.key,amount=ammonia_amt,unit=\"kilogram\",type='biosphere').save()\n",
    "locals()['onsite_animalemi_farm%s' % x].new_exchange(input=farmx_emi_hydrosulfide.key,amount=hydrosulfide_amt,unit=\"kilogram\",type='biosphere').save()\n",
    "locals()['onsite_animalemi_farm%s' % x].new_exchange(input=farmx_emi_methane.key,amount=methane_amt,unit=\"kilogram\",type='biosphere').save()\n",
    "locals()['onsite_animalemi_farm%s' % x].new_exchange(input=farmx_emi_VOC.key,amount=VOC_amt,unit=\"kilogram\",type='biosphere').save()\n",
    "locals()['onsite_animalemi_farm%s' % x].new_exchange(input=farmx_emi_nitroxides.key,amount=nitroxides_amt,unit=\"kilogram\",type='biosphere').save()"
   ]
  },
  {
   "cell_type": "code",
   "execution_count": 49,
   "metadata": {},
   "outputs": [],
   "source": [
    "#onsite resource input\n",
    "locals()['onsite_farm%s' % x].new_exchange(input=farmx_input_pasture.key,amount=land_amt,unit=\"square meter-year\",type='biosphere').save()\n",
    "locals()['onsite_farm%s' % x].new_exchange(input=farmx_input_water_unspecified.key,amount=water_amt,unit=\"cubic meter\",type='biosphere').save()"
   ]
  },
  {
   "cell_type": "markdown",
   "metadata": {},
   "source": [
    "### alternative anthracite (replacing lignite)"
   ]
  },
  {
   "cell_type": "code",
   "execution_count": 74,
   "metadata": {},
   "outputs": [],
   "source": [
    "#technosphere input all written to SA_farmx_upstream: \n",
    "#replacing lignite with anthracite:  farmx_anthracite.key,  anthracite_amt_kg,unit=\"kilogram)\n",
    "locals()['SA_upstream_farm%s' % x].new_exchange(input=farmx_elec.key,amount=elec_amt,unit=\"kilowatt hour\",type='technosphere').save()\n",
    "locals()['SA_upstream_farm%s' % x].new_exchange(input=farmx_diesel.key,amount=diesel_amt_MJ,unit=\"megajoule\",type='technosphere').save()\n",
    "locals()['SA_upstream_farm%s' % x].new_exchange(input=farmx_anthracite.key,amount=anthracite_amt_kg,unit=\"kilogram\",type='technosphere').save()\n",
    "locals()['SA_upstream_farm%s' % x].new_exchange(input=farmx_pelletfeed.key,amount=pelletfeed_amt,unit=\"kilogram\",type='technosphere').save()\n",
    "locals()['SA_upstream_farm%s' % x].new_exchange(input=farmx_soybeanmeal.key,amount=soybeanmeal_amt,unit=\"kilogram\",type='technosphere').save()\n",
    "locals()['SA_upstream_farm%s' % x].new_exchange(input=farmx_cottonseedmeal.key,amount=cottonseedmeal_amt,unit=\"kilogram\",type='technosphere').save()\n",
    "locals()['SA_upstream_farm%s' % x].new_exchange(input=farmx_vinasse.key,amount=vinasse_amt,unit=\"kilogram\",type='technosphere').save()\n",
    "locals()['SA_upstream_farm%s' % x].new_exchange(input=farmx_rapemeal.key,amount=rapemeal_amt,unit=\"kilogram\",type='technosphere').save()\n",
    "locals()['SA_upstream_farm%s' % x].new_exchange(input=farmx_wheatbran.key,amount=wheatbran_amt,unit=\"kilogram\",type='technosphere').save()\n",
    "locals()['SA_upstream_farm%s' % x].new_exchange(input=farmx_maizechop.key,amount=maizechop_amt,unit=\"kilogram\",type='technosphere').save()\n",
    "locals()['SA_upstream_farm%s' % x].new_exchange(input=farmx_hay.key,amount=hay_amt,unit=\"kilogram\",type='technosphere').save()\n",
    "locals()['SA_upstream_farm%s' % x].new_exchange(input=farmx_straw.key,amount=straw_amt,unit=\"kilogram\",type='technosphere').save()\n",
    "locals()['SA_upstream_farm%s' % x].new_exchange(input=farmx_maizesilage.key,amount=maizesilage_amt,unit=\"kilogram\",type='technosphere').save()\n",
    "locals()['SA_upstream_farm%s' % x].new_exchange(input=farmx_grasssilage.key,amount=grasssilage_amt,unit=\"kilogram\",type='technosphere').save()\n",
    "locals()['SA_upstream_farm%s' % x].new_exchange(input=farmx_maizegrain.key,amount=maizegrain_amt,unit=\"kilogram\",type='technosphere').save()\n",
    "locals()['SA_upstream_farm%s' % x].new_exchange(input=farmx_milk.key,amount=milk_amt,unit=\"kilogram\",type='technosphere').save()\n",
    "#globals()['upstream_farm%s' % x].save()"
   ]
  },
  {
   "cell_type": "code",
   "execution_count": 75,
   "metadata": {},
   "outputs": [],
   "source": [
    "# onsite heat production:  anthracite_amt_MJ = coal_amt_MJ\n",
    "locals()['SA_onsite_anthracit_farm%s' % x].new_exchange(input=farm_anthracite_burnEmi.key,amount=anthracite_amt_MJ,unit=\"megajoule\",type='technosphere').save()"
   ]
  },
  {
   "cell_type": "markdown",
   "metadata": {},
   "source": [
    "### alternative natural gas (replacing lignite)  "
   ]
  },
  {
   "cell_type": "code",
   "execution_count": 127,
   "metadata": {},
   "outputs": [],
   "source": [
    "locals()['SA2NG_upstream_farm%s' % x].new_exchange(input=farmx_elec.key,amount=elec_amt,unit=\"kilowatt hour\",type='technosphere').save()\n",
    "locals()['SA2NG_upstream_farm%s' % x].new_exchange(input=farmx_diesel.key,amount=diesel_amt_MJ,unit=\"megajoule\",type='technosphere').save()\n",
    "locals()['SA2NG_upstream_farm%s' % x].new_exchange(input=farmx_naturalgas.key,amount=NG_amt_m3,unit=\"cubic meter\",type='technosphere').save()\n",
    "locals()['SA2NG_upstream_farm%s' % x].new_exchange(input=farmx_pelletfeed.key,amount=pelletfeed_amt,unit=\"kilogram\",type='technosphere').save()\n",
    "locals()['SA2NG_upstream_farm%s' % x].new_exchange(input=farmx_soybeanmeal.key,amount=soybeanmeal_amt,unit=\"kilogram\",type='technosphere').save()\n",
    "locals()['SA2NG_upstream_farm%s' % x].new_exchange(input=farmx_cottonseedmeal.key,amount=cottonseedmeal_amt,unit=\"kilogram\",type='technosphere').save()\n",
    "locals()['SA2NG_upstream_farm%s' % x].new_exchange(input=farmx_vinasse.key,amount=vinasse_amt,unit=\"kilogram\",type='technosphere').save()\n",
    "locals()['SA2NG_upstream_farm%s' % x].new_exchange(input=farmx_rapemeal.key,amount=rapemeal_amt,unit=\"kilogram\",type='technosphere').save()\n",
    "locals()['SA2NG_upstream_farm%s' % x].new_exchange(input=farmx_wheatbran.key,amount=wheatbran_amt,unit=\"kilogram\",type='technosphere').save()\n",
    "locals()['SA2NG_upstream_farm%s' % x].new_exchange(input=farmx_maizechop.key,amount=maizechop_amt,unit=\"kilogram\",type='technosphere').save()\n",
    "locals()['SA2NG_upstream_farm%s' % x].new_exchange(input=farmx_hay.key,amount=hay_amt,unit=\"kilogram\",type='technosphere').save()\n",
    "locals()['SA2NG_upstream_farm%s' % x].new_exchange(input=farmx_straw.key,amount=straw_amt,unit=\"kilogram\",type='technosphere').save()\n",
    "locals()['SA2NG_upstream_farm%s' % x].new_exchange(input=farmx_maizesilage.key,amount=maizesilage_amt,unit=\"kilogram\",type='technosphere').save()\n",
    "locals()['SA2NG_upstream_farm%s' % x].new_exchange(input=farmx_grasssilage.key,amount=grasssilage_amt,unit=\"kilogram\",type='technosphere').save()\n",
    "locals()['SA2NG_upstream_farm%s' % x].new_exchange(input=farmx_maizegrain.key,amount=maizegrain_amt,unit=\"kilogram\",type='technosphere').save()\n",
    "locals()['SA2NG_upstream_farm%s' % x].new_exchange(input=farmx_milk.key,amount=milk_amt,unit=\"kilogram\",type='technosphere').save()\n"
   ]
  },
  {
   "cell_type": "code",
   "execution_count": 128,
   "metadata": {},
   "outputs": [],
   "source": [
    "locals()['SA2NG_onsite_NG_farm%s' % x].new_exchange(input=farm_NG_burnEmi.key,amount=NG_amt_MJ,unit=\"megajoule\",type='technosphere').save()"
   ]
  },
  {
   "cell_type": "code",
   "execution_count": null,
   "metadata": {},
   "outputs": [],
   "source": []
  },
  {
   "cell_type": "code",
   "execution_count": 50,
   "metadata": {},
   "outputs": [
    {
     "name": "stdout",
     "output_type": "stream",
     "text": [
      "Exchange: 11243.232 megajoule 'diesel, burned in agricultural machinery' (megajoule, GLO, None) to 'farm1_onsite_dieselburn' (unit, GLO, None)>\n"
     ]
    }
   ],
   "source": [
    "for exc in locals()['onsite_diesel_farm%s' % x].exchanges():  \n",
    "        print(exc)"
   ]
  },
  {
   "cell_type": "markdown",
   "metadata": {},
   "source": [
    "# LCA farmx_upstream, onsite_coal, diesel,animalemi, resource"
   ]
  },
  {
   "cell_type": "code",
   "execution_count": 51,
   "metadata": {},
   "outputs": [],
   "source": [
    "#define FU for each farm here, do not touch following codes\n",
    "farmx_income = 2.565*10000      #RMB yuan\n",
    "farmx_liveweiht = 75000  #kg"
   ]
  },
  {
   "cell_type": "code",
   "execution_count": 52,
   "metadata": {},
   "outputs": [],
   "source": [
    "#FU income\n",
    "GWP = [m for m in bw.methods if 'IPCC 2013' in str(m) and  'climate change' in str(m) and 'GWP 100a' in str(m)][0]\n",
    "FUincome_upstream = {locals()['upstream_farm%s' % x]: (1/farmx_income)}\n",
    "FUincome_onsite = {locals()['onsite_farm%s' % x]: (1/farmx_income)}\n",
    "FUincome_onsite_diesel = {locals()['onsite_diesel_farm%s' % x]: (1/farmx_income)}\n",
    "FUincome_onsite_coal = {locals()['onsite_coal_farm%s' % x]: (1/farmx_income)}\n",
    "FUincome_onsite_animalemi = {locals()['onsite_animalemi_farm%s' % x]: (1/farmx_income)}"
   ]
  },
  {
   "cell_type": "code",
   "execution_count": 53,
   "metadata": {},
   "outputs": [
    {
     "data": {
      "text/plain": [
       "{'farm1_upstream_allinput' (unit, GLO, None): 3.898635477582846e-05}"
      ]
     },
     "execution_count": 53,
     "metadata": {},
     "output_type": "execute_result"
    }
   ],
   "source": [
    "FUincome_upstream"
   ]
  },
  {
   "cell_type": "code",
   "execution_count": 54,
   "metadata": {},
   "outputs": [
    {
     "data": {
      "text/plain": [
       "True"
      ]
     },
     "execution_count": 54,
     "metadata": {},
     "output_type": "execute_result"
    }
   ],
   "source": [
    "type(FUincome_upstream) == type({upstream_farm1.key : 1})"
   ]
  },
  {
   "cell_type": "code",
   "execution_count": 76,
   "metadata": {
    "scrolled": true
   },
   "outputs": [],
   "source": [
    "#SA _ anthracite \n",
    "SA_FUincome_upstream = {locals()['SA_upstream_farm%s' % x]: (1/farmx_income)}\n",
    "SA_FUincome_onsite_anthracite = {locals()['SA_onsite_anthracit_farm%s' % x]: (1/farmx_income)}"
   ]
  },
  {
   "cell_type": "code",
   "execution_count": 129,
   "metadata": {},
   "outputs": [],
   "source": [
    "#SA _ natural gas\n",
    "SA2NG_FUincome_upstream = {locals()['SA2NG_upstream_farm%s' % x]: (1/farmx_income)}\n",
    "SA2NG_FUincome_onsite_NG = {locals()['SA2NG_onsite_NG_farm%s' % x]: (1/farmx_income)}"
   ]
  },
  {
   "cell_type": "markdown",
   "metadata": {},
   "source": [
    "#### original data w/o SA"
   ]
  },
  {
   "cell_type": "code",
   "execution_count": 57,
   "metadata": {},
   "outputs": [],
   "source": [
    "Upstream_all = bw.LCA(FUincome_upstream , GWP)"
   ]
  },
  {
   "cell_type": "code",
   "execution_count": 58,
   "metadata": {},
   "outputs": [],
   "source": [
    "OnsiteRes =  bw.LCA(FUincome_onsite, GWP)"
   ]
  },
  {
   "cell_type": "code",
   "execution_count": 59,
   "metadata": {},
   "outputs": [],
   "source": [
    "OnsiteDiesel =  bw.LCA(FUincome_onsite_diesel, GWP)"
   ]
  },
  {
   "cell_type": "code",
   "execution_count": 60,
   "metadata": {},
   "outputs": [],
   "source": [
    "OnsiteCoal =  bw.LCA(FUincome_onsite_coal, GWP)"
   ]
  },
  {
   "cell_type": "code",
   "execution_count": 61,
   "metadata": {},
   "outputs": [],
   "source": [
    "OnsiteAnimal =  bw.LCA(FUincome_onsite_animalemi, GWP)"
   ]
  },
  {
   "cell_type": "code",
   "execution_count": 62,
   "metadata": {},
   "outputs": [
    {
     "data": {
      "text/plain": [
       "1.5100117976977852"
      ]
     },
     "execution_count": 62,
     "metadata": {},
     "output_type": "execute_result"
    }
   ],
   "source": [
    "Upstream_all.lci()\n",
    "Upstream_all.lcia()\n",
    "Upstream_all.score"
   ]
  },
  {
   "cell_type": "code",
   "execution_count": 63,
   "metadata": {},
   "outputs": [
    {
     "data": {
      "text/plain": [
       "0.0"
      ]
     },
     "execution_count": 63,
     "metadata": {},
     "output_type": "execute_result"
    }
   ],
   "source": [
    "OnsiteRes.lci()\n",
    "OnsiteRes.lcia()\n",
    "OnsiteRes.score"
   ]
  },
  {
   "cell_type": "code",
   "execution_count": 64,
   "metadata": {},
   "outputs": [
    {
     "data": {
      "text/plain": [
       "0.03096301476623808"
      ]
     },
     "execution_count": 64,
     "metadata": {},
     "output_type": "execute_result"
    }
   ],
   "source": [
    "OnsiteDiesel.lci()\n",
    "OnsiteDiesel.lcia()\n",
    "OnsiteDiesel.score"
   ]
  },
  {
   "cell_type": "code",
   "execution_count": 65,
   "metadata": {},
   "outputs": [
    {
     "data": {
      "text/plain": [
       "1.0781550273806735"
      ]
     },
     "execution_count": 65,
     "metadata": {},
     "output_type": "execute_result"
    }
   ],
   "source": [
    "OnsiteCoal.lci()\n",
    "OnsiteCoal.lcia()\n",
    "OnsiteCoal.score"
   ]
  },
  {
   "cell_type": "code",
   "execution_count": 66,
   "metadata": {},
   "outputs": [
    {
     "data": {
      "text/plain": [
       "1.152105292753402"
      ]
     },
     "execution_count": 66,
     "metadata": {},
     "output_type": "execute_result"
    }
   ],
   "source": [
    "OnsiteAnimal.lci()\n",
    "OnsiteAnimal.lcia()\n",
    "OnsiteAnimal.score"
   ]
  },
  {
   "cell_type": "code",
   "execution_count": null,
   "metadata": {},
   "outputs": [],
   "source": []
  },
  {
   "cell_type": "markdown",
   "metadata": {},
   "source": [
    "#### SA_anthracite: changes on upstream and onsite anthracite burning"
   ]
  },
  {
   "cell_type": "code",
   "execution_count": 77,
   "metadata": {},
   "outputs": [],
   "source": [
    "SA_Upstream_all = bw.LCA(SA_FUincome_upstream , GWP)"
   ]
  },
  {
   "cell_type": "code",
   "execution_count": 78,
   "metadata": {},
   "outputs": [],
   "source": [
    "SA_OnsiteAnthracite =  bw.LCA(SA_FUincome_onsite_anthracite , GWP)"
   ]
  },
  {
   "cell_type": "code",
   "execution_count": 79,
   "metadata": {},
   "outputs": [
    {
     "data": {
      "text/plain": [
       "1.4853465494329452"
      ]
     },
     "execution_count": 79,
     "metadata": {},
     "output_type": "execute_result"
    }
   ],
   "source": [
    "SA_Upstream_all.lci()\n",
    "SA_Upstream_all.lcia()\n",
    "SA_Upstream_all.score"
   ]
  },
  {
   "cell_type": "code",
   "execution_count": 80,
   "metadata": {},
   "outputs": [
    {
     "data": {
      "text/plain": [
       "1.0926358160235965"
      ]
     },
     "execution_count": 80,
     "metadata": {},
     "output_type": "execute_result"
    }
   ],
   "source": [
    "SA_OnsiteAnthracite.lci()\n",
    "SA_OnsiteAnthracite.lcia()\n",
    "SA_OnsiteAnthracite.score"
   ]
  },
  {
   "cell_type": "markdown",
   "metadata": {},
   "source": [
    "GWP% change after replacing lignite with anthracite: only 0.4% less impacts"
   ]
  },
  {
   "cell_type": "code",
   "execution_count": 86,
   "metadata": {},
   "outputs": [
    {
     "data": {
      "text/plain": [
       "0.3935008950440428"
      ]
     },
     "execution_count": 86,
     "metadata": {},
     "output_type": "execute_result"
    }
   ],
   "source": [
    "((1.5100117976977852 + 1.0781550273806735) - (1.0926358160235965 + 1.4853465494329452) ) / (1.5100117976977852 + 1.0781550273806735) * 100"
   ]
  },
  {
   "cell_type": "markdown",
   "metadata": {},
   "source": [
    "#### SA_natural gas: changes on upstream and onsite NG burning"
   ]
  },
  {
   "cell_type": "code",
   "execution_count": 130,
   "metadata": {},
   "outputs": [],
   "source": [
    "SA2NG_Upstream_all = bw.LCA(SA2NG_FUincome_upstream, GWP)"
   ]
  },
  {
   "cell_type": "code",
   "execution_count": 131,
   "metadata": {},
   "outputs": [],
   "source": [
    "SA2NG_OnsiteNG = bw.LCA(SA2NG_FUincome_onsite_NG, GWP)"
   ]
  },
  {
   "cell_type": "code",
   "execution_count": 132,
   "metadata": {},
   "outputs": [
    {
     "data": {
      "text/plain": [
       "1.4627989311012934"
      ]
     },
     "execution_count": 132,
     "metadata": {},
     "output_type": "execute_result"
    }
   ],
   "source": [
    "SA2NG_Upstream_all.lci()\n",
    "SA2NG_Upstream_all.lcia()\n",
    "SA2NG_Upstream_all.score"
   ]
  },
  {
   "cell_type": "code",
   "execution_count": 133,
   "metadata": {},
   "outputs": [
    {
     "data": {
      "text/plain": [
       "0.3849808864162081"
      ]
     },
     "execution_count": 133,
     "metadata": {},
     "output_type": "execute_result"
    }
   ],
   "source": [
    "SA2NG_OnsiteNG.lci()\n",
    "SA2NG_OnsiteNG.lcia()\n",
    "SA2NG_OnsiteNG.score"
   ]
  },
  {
   "cell_type": "code",
   "execution_count": 134,
   "metadata": {},
   "outputs": [],
   "source": [
    "df_final = pd.DataFrame({'orginal': [Upstream_all.score, OnsiteDiesel.score, OnsiteCoal.score, OnsiteAnimal.score],\n",
    "           'SA_replaceCoal_Anthracite': [SA_Upstream_all.score, OnsiteDiesel.score, SA_OnsiteAnthracite_all.score, OnsiteAnimal.score],\n",
    "           'SA_replaceCoal_NaturalGas': [SA2NG_Upstream_all.score, OnsiteDiesel.score,SA2NG_OnsiteNG.score, OnsiteAnimal.score]              \n",
    "                  }, \n",
    "                  columns = [\"orginal\", \"SA_replaceCoal_Anthracite\", \"SA_replaceCoal_NaturalGas\"],\n",
    "                  index = ['upstream','onsite_diesel','onsite_HeatingFuel','onsite_animal'])"
   ]
  },
  {
   "cell_type": "code",
   "execution_count": 135,
   "metadata": {},
   "outputs": [
    {
     "data": {
      "text/html": [
       "<div>\n",
       "<style scoped>\n",
       "    .dataframe tbody tr th:only-of-type {\n",
       "        vertical-align: middle;\n",
       "    }\n",
       "\n",
       "    .dataframe tbody tr th {\n",
       "        vertical-align: top;\n",
       "    }\n",
       "\n",
       "    .dataframe thead th {\n",
       "        text-align: right;\n",
       "    }\n",
       "</style>\n",
       "<table border=\"1\" class=\"dataframe\">\n",
       "  <thead>\n",
       "    <tr style=\"text-align: right;\">\n",
       "      <th></th>\n",
       "      <th>orginal</th>\n",
       "      <th>SA_replaceCoal_Anthracite</th>\n",
       "      <th>SA_replaceCoal_NaturalGas</th>\n",
       "    </tr>\n",
       "  </thead>\n",
       "  <tbody>\n",
       "    <tr>\n",
       "      <th>upstream</th>\n",
       "      <td>1.510012</td>\n",
       "      <td>1.485347</td>\n",
       "      <td>1.462799</td>\n",
       "    </tr>\n",
       "    <tr>\n",
       "      <th>onsite_diesel</th>\n",
       "      <td>0.030963</td>\n",
       "      <td>0.030963</td>\n",
       "      <td>0.030963</td>\n",
       "    </tr>\n",
       "    <tr>\n",
       "      <th>onsite_HeatingFuel</th>\n",
       "      <td>1.078155</td>\n",
       "      <td>1.092636</td>\n",
       "      <td>0.384981</td>\n",
       "    </tr>\n",
       "    <tr>\n",
       "      <th>onsite_animal</th>\n",
       "      <td>1.152105</td>\n",
       "      <td>1.152105</td>\n",
       "      <td>1.152105</td>\n",
       "    </tr>\n",
       "  </tbody>\n",
       "</table>\n",
       "</div>"
      ],
      "text/plain": [
       "                     orginal  SA_replaceCoal_Anthracite  \\\n",
       "upstream            1.510012                   1.485347   \n",
       "onsite_diesel       0.030963                   0.030963   \n",
       "onsite_HeatingFuel  1.078155                   1.092636   \n",
       "onsite_animal       1.152105                   1.152105   \n",
       "\n",
       "                    SA_replaceCoal_NaturalGas  \n",
       "upstream                             1.462799  \n",
       "onsite_diesel                        0.030963  \n",
       "onsite_HeatingFuel                   0.384981  \n",
       "onsite_animal                        1.152105  "
      ]
     },
     "execution_count": 135,
     "metadata": {},
     "output_type": "execute_result"
    }
   ],
   "source": [
    "df_final"
   ]
  },
  {
   "cell_type": "code",
   "execution_count": 139,
   "metadata": {},
   "outputs": [],
   "source": [
    "import matplotlib.pyplot as plt"
   ]
  },
  {
   "cell_type": "markdown",
   "metadata": {},
   "source": [
    "df_final.plot(kind=\"bar\", figsize=(20,10))\n",
    "plt.title(\"GWP (kg CO2 eq.) for farm1 with two alternative scenarios on replacing onsite coal burning\") \n",
    "plt.ylabel(\"kg CO2 eq.\")\n",
    "plt.xticks(rotation=0)\n",
    "\n",
    "for i in range(len(df_final)):\n",
    "    for colnm in df_final.columns:\n",
    "        plt.annotate(str((\"{:.2e}\".format(df_final[colnm][i]))),  xy=(i, df_final[colnm][i]), ha='center', va='bottom')\n",
    "        #print(str((\"{:.2e}\".format(df_final[colnm][i]))))\n",
    "\n",
    "plt.show()"
   ]
  },
  {
   "cell_type": "code",
   "execution_count": 176,
   "metadata": {
    "scrolled": true
   },
   "outputs": [
    {
     "data": {
      "text/html": [
       "<div>\n",
       "<style scoped>\n",
       "    .dataframe tbody tr th:only-of-type {\n",
       "        vertical-align: middle;\n",
       "    }\n",
       "\n",
       "    .dataframe tbody tr th {\n",
       "        vertical-align: top;\n",
       "    }\n",
       "\n",
       "    .dataframe thead th {\n",
       "        text-align: right;\n",
       "    }\n",
       "</style>\n",
       "<table border=\"1\" class=\"dataframe\">\n",
       "  <thead>\n",
       "    <tr style=\"text-align: right;\">\n",
       "      <th></th>\n",
       "      <th>orginal</th>\n",
       "      <th>SA_replaceCoal_Anthracite</th>\n",
       "      <th>SA_replaceCoal_NaturalGas</th>\n",
       "    </tr>\n",
       "  </thead>\n",
       "  <tbody>\n",
       "    <tr>\n",
       "      <th>upstream</th>\n",
       "      <td>1.510012</td>\n",
       "      <td>1.485347</td>\n",
       "      <td>1.462799</td>\n",
       "    </tr>\n",
       "    <tr>\n",
       "      <th>onsite_diesel</th>\n",
       "      <td>0.030963</td>\n",
       "      <td>0.030963</td>\n",
       "      <td>0.030963</td>\n",
       "    </tr>\n",
       "    <tr>\n",
       "      <th>onsite_HeatingFuel</th>\n",
       "      <td>1.078155</td>\n",
       "      <td>1.092636</td>\n",
       "      <td>0.384981</td>\n",
       "    </tr>\n",
       "    <tr>\n",
       "      <th>onsite_animal</th>\n",
       "      <td>1.152105</td>\n",
       "      <td>1.152105</td>\n",
       "      <td>1.152105</td>\n",
       "    </tr>\n",
       "  </tbody>\n",
       "</table>\n",
       "</div>"
      ],
      "text/plain": [
       "                     orginal  SA_replaceCoal_Anthracite  \\\n",
       "upstream            1.510012                   1.485347   \n",
       "onsite_diesel       0.030963                   0.030963   \n",
       "onsite_HeatingFuel  1.078155                   1.092636   \n",
       "onsite_animal       1.152105                   1.152105   \n",
       "\n",
       "                    SA_replaceCoal_NaturalGas  \n",
       "upstream                             1.462799  \n",
       "onsite_diesel                        0.030963  \n",
       "onsite_HeatingFuel                   0.384981  \n",
       "onsite_animal                        1.152105  "
      ]
     },
     "execution_count": 176,
     "metadata": {},
     "output_type": "execute_result"
    }
   ],
   "source": [
    "df = df_final\n",
    "df = df.round(2)"
   ]
  },
  {
   "cell_type": "code",
   "execution_count": 187,
   "metadata": {},
   "outputs": [],
   "source": [
    "df"
   ]
  },
  {
   "cell_type": "code",
   "execution_count": 202,
   "metadata": {},
   "outputs": [],
   "source": [
    "plt.rcParams[\"font.family\"] = \"Times New Roman\"\n",
    "plt.rcParams.update({'font.size': 16})"
   ]
  },
  {
   "cell_type": "code",
   "execution_count": 205,
   "metadata": {},
   "outputs": [
    {
     "data": {
      "text/plain": [
       "(array([0, 1, 2, 3]),\n",
       " [Text(0, 0, 'upstream'),\n",
       "  Text(1, 0, 'onsite_diesel'),\n",
       "  Text(2, 0, 'onsite_HeatingFuel'),\n",
       "  Text(3, 0, 'onsite_animal')])"
      ]
     },
     "execution_count": 205,
     "metadata": {},
     "output_type": "execute_result"
    },
    {
     "data": {
      "image/png": "[encoded data removed]",
      "text/plain": [
       "<Figure size 1080x720 with 1 Axes>"
      ]
     },
     "metadata": {
      "needs_background": "light"
     },
     "output_type": "display_data"
    }
   ],
   "source": [
    "fig, ax = plt.subplots(figsize=(15, 10))\n",
    "\n",
    "df.plot.bar(rot=0, ax=ax, zorder=2,\n",
    "    color=[\"cornflowerblue\", \"yellowgreen\", \"gold\"])\n",
    "for container in ax.containers:\n",
    "    ax.bar_label(container, padding=3)\n",
    "    \n",
    "plt.title(\"GWP per FU for farm1 with two alternative scenarios on replacing onsite coal burning\") \n",
    "plt.legend(bbox_to_anchor=(0., 0.85, 0.95, .102), loc='lower right', ncol=1,  borderaxespad=0.)\n",
    "plt.ylabel(\"kg CO2 eq.\")\n",
    "plt.xticks(rotation=0)\n"
   ]
  },
  {
   "cell_type": "code",
   "execution_count": null,
   "metadata": {},
   "outputs": [],
   "source": []
  },
  {
   "cell_type": "markdown",
   "metadata": {},
   "source": [
    "RAW GWP calculation"
   ]
  },
  {
   "cell_type": "code",
   "execution_count": 188,
   "metadata": {},
   "outputs": [
    {
     "data": {
      "text/plain": [
       "0.0"
      ]
     },
     "execution_count": 188,
     "metadata": {},
     "output_type": "execute_result"
    }
   ],
   "source": [
    "globals()['onsiteLCA_farm%s' % x].lcia()\n",
    "globals()['onsiteLCA_farm%s' % x].score"
   ]
  },
  {
   "cell_type": "code",
   "execution_count": 189,
   "metadata": {},
   "outputs": [
    {
     "data": {
      "text/plain": [
       "0.03096301476623808"
      ]
     },
     "execution_count": 189,
     "metadata": {},
     "output_type": "execute_result"
    }
   ],
   "source": [
    "globals()['onsite_diesel_farm%s' % x].lcia()\n",
    "globals()['onsite_diesel_farm%s' % x].score"
   ]
  },
  {
   "cell_type": "code",
   "execution_count": 190,
   "metadata": {},
   "outputs": [
    {
     "data": {
      "text/plain": [
       "1.0781550273806735"
      ]
     },
     "execution_count": 190,
     "metadata": {},
     "output_type": "execute_result"
    }
   ],
   "source": [
    "globals()['onsite_coal_farm%s' % x].lcia()\n",
    "globals()['onsite_coal_farm%s' % x].score"
   ]
  },
  {
   "cell_type": "code",
   "execution_count": 191,
   "metadata": {},
   "outputs": [
    {
     "data": {
      "text/plain": [
       "1.152105292753402"
      ]
     },
     "execution_count": 191,
     "metadata": {},
     "output_type": "execute_result"
    }
   ],
   "source": [
    "globals()['onsite_animalemi_farm%s' % x].lcia()\n",
    "globals()['onsite_animalemi_farm%s' % x].score"
   ]
  },
  {
   "cell_type": "code",
   "execution_count": 192,
   "metadata": {},
   "outputs": [
    {
     "data": {
      "text/plain": [
       "1.510011797697786"
      ]
     },
     "execution_count": 192,
     "metadata": {},
     "output_type": "execute_result"
    }
   ],
   "source": [
    "globals()['upstreamLCA_farm%s' % x].lcia()\n",
    "globals()['upstreamLCA_farm%s' % x].score"
   ]
  },
  {
   "cell_type": "code",
   "execution_count": null,
   "metadata": {},
   "outputs": [],
   "source": []
  }
 ],
 "metadata": {
  "kernelspec": {
   "display_name": "Python 3 (ipykernel)",
   "language": "python",
   "name": "python3"
  },
  "language_info": {
   "codemirror_mode": {
    "name": "ipython",
    "version": 3
   },
   "file_extension": ".py",
   "mimetype": "text/x-python",
   "name": "python",
   "nbconvert_exporter": "python",
   "pygments_lexer": "ipython3",
   "version": "3.9.6"
  }
 },
 "nbformat": 4,
 "nbformat_minor": 4
}
